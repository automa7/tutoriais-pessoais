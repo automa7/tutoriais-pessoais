{
 "cells": [
  {
   "cell_type": "markdown",
   "metadata": {},
   "source": [
    "#  Noções Básicas de Python\n",
    "\n",
    "## Tipos de variaveis"
   ]
  },
  {
   "cell_type": "code",
   "execution_count": 1,
   "metadata": {},
   "outputs": [
    {
     "data": {
      "text/plain": [
       "1"
      ]
     },
     "execution_count": 1,
     "metadata": {},
     "output_type": "execute_result"
    }
   ],
   "source": [
    "inteiro = 1 # int\n",
    "flutuante = 1.0 # float\n",
    "texto = '1' # string\n",
    "booleana = True # boolean\n",
    "lista = ['1', 2, 30.0, True] # list\n",
    "dicionario = { # Dictionary\n",
    "    'nome': 'Alex',\n",
    "    'idade': 30\n",
    "} \n",
    "tupla = ('1', 3, 30.0, True) # tuple\n",
    "\n",
    "# Digite o nome da variavel que deseja ver na linha abaixo\n",
    "inteiro"
   ]
  },
  {
   "cell_type": "markdown",
   "metadata": {},
   "source": [
    "## Laços (Loops)"
   ]
  },
  {
   "cell_type": "code",
   "execution_count": 46,
   "metadata": {
    "scrolled": true
   },
   "outputs": [
    {
     "name": "stdout",
     "output_type": "stream",
     "text": [
      "1\n",
      "2\n",
      "30.0\n",
      "True\n"
     ]
    }
   ],
   "source": [
    "# para cada item na tuple, execute print\n",
    "for i in tupla:\n",
    "    print(i)\n"
   ]
  },
  {
   "cell_type": "code",
   "execution_count": 47,
   "metadata": {},
   "outputs": [
    {
     "name": "stdout",
     "output_type": "stream",
     "text": [
      "Alex\n",
      "30\n"
     ]
    }
   ],
   "source": [
    "# para cada item no dicionario, execute print no valor da chave\n",
    "for i in dicionario:\n",
    "    print(dicionario[i])\n",
    "    "
   ]
  },
  {
   "cell_type": "code",
   "execution_count": 59,
   "metadata": {
    "scrolled": true
   },
   "outputs": [
    {
     "name": "stdout",
     "output_type": "stream",
     "text": [
      "True\n",
      "30.0\n",
      "2\n",
      "1\n"
     ]
    }
   ],
   "source": [
    "# Enquanto quantidade de itens na lista for maior que zero, remova o ultimo item e execute print dele\n",
    "while len(lista) > 0:\n",
    "    print(lista.pop())"
   ]
  },
  {
   "cell_type": "markdown",
   "metadata": {},
   "source": [
    "## Condicionais"
   ]
  },
  {
   "cell_type": "code",
   "execution_count": 2,
   "metadata": {},
   "outputs": [
    {
     "name": "stdout",
     "output_type": "stream",
     "text": [
      "string\n",
      "3 não está na lista\n",
      "30.0\n",
      "True\n"
     ]
    }
   ],
   "source": [
    "# Para cada item da tupla, se ele  não for string e estiver na lista, execute print\n",
    "# Se for string, execute print('string')\n",
    "# Se não, execute print(item não esta na lista)\n",
    "variavel = tupla\n",
    "for i in variavel:\n",
    "    if i in lista and type(i) is not str:\n",
    "        print(i)\n",
    "    elif type(i) is str:\n",
    "        print('string')\n",
    "    else:\n",
    "        print(\"{} não está na lista\".format(i))"
   ]
  },
  {
   "cell_type": "markdown",
   "metadata": {},
   "source": [
    "## Funções (Métodos)"
   ]
  },
  {
   "cell_type": "code",
   "execution_count": 3,
   "metadata": {},
   "outputs": [
    {
     "name": "stdout",
     "output_type": "stream",
     "text": [
      "Não interpretado como número\n",
      "4\n",
      "60.0\n",
      "Não interpretado como número\n"
     ]
    }
   ],
   "source": [
    "# Função que verifica cada item de uma lista\n",
    "# Se não for do tipo numero, execute print('Não interpretado como número')\n",
    "# Se não, multiplique por dois e execute print do resultado\n",
    "def mutiplique_por_2(l):\n",
    "    for i in l:\n",
    "        if(type(i) is not int and type(i) is not float):\n",
    "            print('Não interpretado como número')\n",
    "        else:\n",
    "            print(i * 2)\n",
    "\n",
    "# Execute a função criada.\n",
    "mutiplique_por_2(lista)"
   ]
  }
 ],
 "metadata": {
  "kernelspec": {
   "display_name": "Python 3",
   "language": "python",
   "name": "python3"
  },
  "language_info": {
   "codemirror_mode": {
    "name": "ipython",
    "version": 3
   },
   "file_extension": ".py",
   "mimetype": "text/x-python",
   "name": "python",
   "nbconvert_exporter": "python",
   "pygments_lexer": "ipython3",
   "version": "3.6.4"
  }
 },
 "nbformat": 4,
 "nbformat_minor": 2
}
