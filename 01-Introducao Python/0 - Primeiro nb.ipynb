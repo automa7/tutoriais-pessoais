{
 "cells": [
  {
   "cell_type": "markdown",
   "metadata": {},
   "source": [
    "# #Datahackers - Basico de Python\n",
    "\n",
    "## Tipos de variaveis"
   ]
  },
  {
   "cell_type": "code",
   "execution_count": 76,
   "metadata": {},
   "outputs": [
    {
     "data": {
      "text/plain": [
       "('1', 3, 30.0, True)"
      ]
     },
     "execution_count": 76,
     "metadata": {},
     "output_type": "execute_result"
    }
   ],
   "source": [
    "var = 1\n",
    "flutuante = 1.0\n",
    "charac = '1'\n",
    "booleana = True\n",
    "lista = ['1', 2, 30.0, True]\n",
    "dicionario = {\n",
    "    'nome': 'Alex',\n",
    "    'idade': 30\n",
    "}\n",
    "tupla = ('1', 3, 30.0, True)\n",
    "tupla"
   ]
  },
  {
   "cell_type": "markdown",
   "metadata": {},
   "source": [
    "## Laços (Loops)"
   ]
  },
  {
   "cell_type": "code",
   "execution_count": 46,
   "metadata": {
    "scrolled": true
   },
   "outputs": [
    {
     "name": "stdout",
     "output_type": "stream",
     "text": [
      "1\n",
      "2\n",
      "30.0\n",
      "True\n"
     ]
    }
   ],
   "source": [
    "for i in tupla:\n",
    "    print(i)\n",
    "\n",
    "\n"
   ]
  },
  {
   "cell_type": "code",
   "execution_count": 47,
   "metadata": {},
   "outputs": [
    {
     "name": "stdout",
     "output_type": "stream",
     "text": [
      "Alex\n",
      "30\n"
     ]
    }
   ],
   "source": [
    "for i in dicionario:\n",
    "    print(dicionario[i])\n",
    "    "
   ]
  },
  {
   "cell_type": "code",
   "execution_count": 59,
   "metadata": {
    "scrolled": true
   },
   "outputs": [
    {
     "name": "stdout",
     "output_type": "stream",
     "text": [
      "True\n",
      "30.0\n",
      "2\n",
      "1\n"
     ]
    }
   ],
   "source": [
    "while len(lista) > 0:\n",
    "    print(lista.pop())"
   ]
  },
  {
   "cell_type": "markdown",
   "metadata": {},
   "source": [
    "## Condicionais"
   ]
  },
  {
   "cell_type": "code",
   "execution_count": 92,
   "metadata": {},
   "outputs": [
    {
     "name": "stdout",
     "output_type": "stream",
     "text": [
      "string\n",
      "3 not in list\n",
      "30.0\n",
      "True\n"
     ]
    }
   ],
   "source": [
    "variavel = tupla\n",
    "for i in variavel:\n",
    "    if i in lista and type(i) is not str:\n",
    "        print(i)\n",
    "    elif type(i) is str:\n",
    "        print('string')\n",
    "    else:\n",
    "        print(\"{} not in list\".format(i))"
   ]
  },
  {
   "cell_type": "markdown",
   "metadata": {},
   "source": [
    "## Funções (Métodos)"
   ]
  },
  {
   "cell_type": "code",
   "execution_count": 105,
   "metadata": {},
   "outputs": [
    {
     "name": "stdout",
     "output_type": "stream",
     "text": [
      "not interpreted as number\n",
      "4\n",
      "60.0\n",
      "not interpreted as number\n"
     ]
    }
   ],
   "source": [
    "def mutiplique_por_2(l):\n",
    "    for i in l:\n",
    "        if(type(i) is not int and type(i) is not float):\n",
    "            print('not interpreted as number')\n",
    "        else:\n",
    "            print(i * 2)\n",
    "            \n",
    "mutiplique_por_2(lista)"
   ]
  }
 ],
 "metadata": {
  "kernelspec": {
   "display_name": "Python 3",
   "language": "python",
   "name": "python3"
  },
  "language_info": {
   "codemirror_mode": {
    "name": "ipython",
    "version": 3
   },
   "file_extension": ".py",
   "mimetype": "text/x-python",
   "name": "python",
   "nbconvert_exporter": "python",
   "pygments_lexer": "ipython3",
   "version": "3.6.4"
  }
 },
 "nbformat": 4,
 "nbformat_minor": 2
}
