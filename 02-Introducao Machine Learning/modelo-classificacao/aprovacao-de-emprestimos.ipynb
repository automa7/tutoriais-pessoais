{
 "cells": [
  {
   "cell_type": "markdown",
   "metadata": {},
   "source": [
    "# <center>Projeto Aprovação de Emprestimos<center>"
   ]
  },
  {
   "cell_type": "markdown",
   "metadata": {},
   "source": [
    "Iniciamos importando os pacotes necessários para o projeto"
   ]
  },
  {
   "cell_type": "code",
   "execution_count": 350,
   "metadata": {},
   "outputs": [],
   "source": [
    "import pandas as pd\n",
    "import matplotlib.pyplot as plt\n",
    "import numpy as np\n",
    "import seaborn as sns\n",
    "\n",
    "# importamos apenas os métodos necessarios do pacote sklearn, utilizados para o processo de machine learning\n",
    "from sklearn.model_selection import train_test_split\n",
    "from sklearn.linear_model import LogisticRegression\n",
    "from sklearn.ensemble import RandomForestClassifier\n",
    "from sklearn.tree import DecisionTreeClassifier\n",
    "\n",
    "# estilização dos plots\n",
    "plt.style.use('ggplot')"
   ]
  },
  {
   "cell_type": "markdown",
   "metadata": {},
   "source": [
    "Em seguida, vamos carregar os dados necessários que estão disponiveis no arquivo csv fornecido junto desse notebook."
   ]
  },
  {
   "cell_type": "code",
   "execution_count": 351,
   "metadata": {},
   "outputs": [],
   "source": [
    "df = pd.read_csv('train.csv')"
   ]
  },
  {
   "cell_type": "markdown",
   "metadata": {},
   "source": [
    "Esse dataset não possui uma documentação, então temos de avaliar cada coluna para descobrir sua utilidade através do nome. Além disso, é sempre bom efetuar as funções básicas de visualização dos dados para interpeta-los e confirmar que está tudo ok com o dataset:"
   ]
  },
  {
   "cell_type": "code",
   "execution_count": 352,
   "metadata": {
    "scrolled": true
   },
   "outputs": [
    {
     "data": {
      "text/html": [
       "<div>\n",
       "<style scoped>\n",
       "    .dataframe tbody tr th:only-of-type {\n",
       "        vertical-align: middle;\n",
       "    }\n",
       "\n",
       "    .dataframe tbody tr th {\n",
       "        vertical-align: top;\n",
       "    }\n",
       "\n",
       "    .dataframe thead th {\n",
       "        text-align: right;\n",
       "    }\n",
       "</style>\n",
       "<table border=\"1\" class=\"dataframe\">\n",
       "  <thead>\n",
       "    <tr style=\"text-align: right;\">\n",
       "      <th></th>\n",
       "      <th>Loan_ID</th>\n",
       "      <th>Gender</th>\n",
       "      <th>Married</th>\n",
       "      <th>Dependents</th>\n",
       "      <th>Education</th>\n",
       "      <th>Self_Employed</th>\n",
       "      <th>ApplicantIncome</th>\n",
       "      <th>CoapplicantIncome</th>\n",
       "      <th>LoanAmount</th>\n",
       "      <th>Loan_Amount_Term</th>\n",
       "      <th>Credit_History</th>\n",
       "      <th>Property_Area</th>\n",
       "      <th>Loan_Status</th>\n",
       "    </tr>\n",
       "  </thead>\n",
       "  <tbody>\n",
       "    <tr>\n",
       "      <th>0</th>\n",
       "      <td>LP001002</td>\n",
       "      <td>1.0</td>\n",
       "      <td>No</td>\n",
       "      <td>0.0</td>\n",
       "      <td>1</td>\n",
       "      <td>0.0</td>\n",
       "      <td>5849</td>\n",
       "      <td>0.0</td>\n",
       "      <td>NaN</td>\n",
       "      <td>360.0</td>\n",
       "      <td>1.0</td>\n",
       "      <td>Urban</td>\n",
       "      <td>Y</td>\n",
       "    </tr>\n",
       "    <tr>\n",
       "      <th>1</th>\n",
       "      <td>LP001003</td>\n",
       "      <td>1.0</td>\n",
       "      <td>Yes</td>\n",
       "      <td>1.0</td>\n",
       "      <td>1</td>\n",
       "      <td>0.0</td>\n",
       "      <td>4583</td>\n",
       "      <td>1508.0</td>\n",
       "      <td>128.0</td>\n",
       "      <td>360.0</td>\n",
       "      <td>1.0</td>\n",
       "      <td>Rural</td>\n",
       "      <td>N</td>\n",
       "    </tr>\n",
       "    <tr>\n",
       "      <th>2</th>\n",
       "      <td>LP001005</td>\n",
       "      <td>1.0</td>\n",
       "      <td>Yes</td>\n",
       "      <td>0.0</td>\n",
       "      <td>1</td>\n",
       "      <td>1.0</td>\n",
       "      <td>3000</td>\n",
       "      <td>0.0</td>\n",
       "      <td>66.0</td>\n",
       "      <td>360.0</td>\n",
       "      <td>1.0</td>\n",
       "      <td>Urban</td>\n",
       "      <td>Y</td>\n",
       "    </tr>\n",
       "    <tr>\n",
       "      <th>3</th>\n",
       "      <td>LP001006</td>\n",
       "      <td>1.0</td>\n",
       "      <td>Yes</td>\n",
       "      <td>0.0</td>\n",
       "      <td>0</td>\n",
       "      <td>0.0</td>\n",
       "      <td>2583</td>\n",
       "      <td>2358.0</td>\n",
       "      <td>120.0</td>\n",
       "      <td>360.0</td>\n",
       "      <td>1.0</td>\n",
       "      <td>Urban</td>\n",
       "      <td>Y</td>\n",
       "    </tr>\n",
       "    <tr>\n",
       "      <th>4</th>\n",
       "      <td>LP001008</td>\n",
       "      <td>1.0</td>\n",
       "      <td>No</td>\n",
       "      <td>0.0</td>\n",
       "      <td>1</td>\n",
       "      <td>0.0</td>\n",
       "      <td>6000</td>\n",
       "      <td>0.0</td>\n",
       "      <td>141.0</td>\n",
       "      <td>360.0</td>\n",
       "      <td>1.0</td>\n",
       "      <td>Urban</td>\n",
       "      <td>Y</td>\n",
       "    </tr>\n",
       "  </tbody>\n",
       "</table>\n",
       "</div>"
      ],
      "text/plain": [
       "    Loan_ID  Gender Married  Dependents  Education  Self_Employed  \\\n",
       "0  LP001002     1.0      No         0.0          1            0.0   \n",
       "1  LP001003     1.0     Yes         1.0          1            0.0   \n",
       "2  LP001005     1.0     Yes         0.0          1            1.0   \n",
       "3  LP001006     1.0     Yes         0.0          0            0.0   \n",
       "4  LP001008     1.0      No         0.0          1            0.0   \n",
       "\n",
       "   ApplicantIncome  CoapplicantIncome  LoanAmount  Loan_Amount_Term  \\\n",
       "0             5849                0.0         NaN             360.0   \n",
       "1             4583             1508.0       128.0             360.0   \n",
       "2             3000                0.0        66.0             360.0   \n",
       "3             2583             2358.0       120.0             360.0   \n",
       "4             6000                0.0       141.0             360.0   \n",
       "\n",
       "   Credit_History Property_Area Loan_Status  \n",
       "0             1.0         Urban           Y  \n",
       "1             1.0         Rural           N  \n",
       "2             1.0         Urban           Y  \n",
       "3             1.0         Urban           Y  \n",
       "4             1.0         Urban           Y  "
      ]
     },
     "execution_count": 352,
     "metadata": {},
     "output_type": "execute_result"
    }
   ],
   "source": [
    "df.head()"
   ]
  },
  {
   "cell_type": "code",
   "execution_count": 353,
   "metadata": {
    "scrolled": true
   },
   "outputs": [
    {
     "data": {
      "text/plain": [
       "Loan_ID               object\n",
       "Gender               float64\n",
       "Married               object\n",
       "Dependents           float64\n",
       "Education              int64\n",
       "Self_Employed        float64\n",
       "ApplicantIncome        int64\n",
       "CoapplicantIncome    float64\n",
       "LoanAmount           float64\n",
       "Loan_Amount_Term     float64\n",
       "Credit_History       float64\n",
       "Property_Area         object\n",
       "Loan_Status           object\n",
       "dtype: object"
      ]
     },
     "execution_count": 353,
     "metadata": {},
     "output_type": "execute_result"
    }
   ],
   "source": [
    "df.dtypes"
   ]
  },
  {
   "cell_type": "markdown",
   "metadata": {},
   "source": [
    "Como pode ver abaixo, a função describe não possui uma eficiência boa com datasets de treinamento, pois a maior parte das colunas se torna quantitativa. Porém quando conhecemos as colunas, podemos avaliar os dados relevantes com ele mesmo assim."
   ]
  },
  {
   "cell_type": "code",
   "execution_count": 354,
   "metadata": {
    "scrolled": true
   },
   "outputs": [
    {
     "data": {
      "text/html": [
       "<div>\n",
       "<style scoped>\n",
       "    .dataframe tbody tr th:only-of-type {\n",
       "        vertical-align: middle;\n",
       "    }\n",
       "\n",
       "    .dataframe tbody tr th {\n",
       "        vertical-align: top;\n",
       "    }\n",
       "\n",
       "    .dataframe thead th {\n",
       "        text-align: right;\n",
       "    }\n",
       "</style>\n",
       "<table border=\"1\" class=\"dataframe\">\n",
       "  <thead>\n",
       "    <tr style=\"text-align: right;\">\n",
       "      <th></th>\n",
       "      <th>Gender</th>\n",
       "      <th>Dependents</th>\n",
       "      <th>Education</th>\n",
       "      <th>Self_Employed</th>\n",
       "      <th>ApplicantIncome</th>\n",
       "      <th>CoapplicantIncome</th>\n",
       "      <th>LoanAmount</th>\n",
       "      <th>Loan_Amount_Term</th>\n",
       "      <th>Credit_History</th>\n",
       "    </tr>\n",
       "  </thead>\n",
       "  <tbody>\n",
       "    <tr>\n",
       "      <th>count</th>\n",
       "      <td>614.000000</td>\n",
       "      <td>614.000000</td>\n",
       "      <td>614.000000</td>\n",
       "      <td>614.000000</td>\n",
       "      <td>614.000000</td>\n",
       "      <td>614.000000</td>\n",
       "      <td>592.000000</td>\n",
       "      <td>614.000000</td>\n",
       "      <td>564.000000</td>\n",
       "    </tr>\n",
       "    <tr>\n",
       "      <th>mean</th>\n",
       "      <td>0.817590</td>\n",
       "      <td>0.744300</td>\n",
       "      <td>0.781759</td>\n",
       "      <td>0.133550</td>\n",
       "      <td>5403.459283</td>\n",
       "      <td>1621.245798</td>\n",
       "      <td>146.412162</td>\n",
       "      <td>342.410423</td>\n",
       "      <td>0.842199</td>\n",
       "    </tr>\n",
       "    <tr>\n",
       "      <th>std</th>\n",
       "      <td>0.386497</td>\n",
       "      <td>1.009623</td>\n",
       "      <td>0.413389</td>\n",
       "      <td>0.340446</td>\n",
       "      <td>6109.041673</td>\n",
       "      <td>2926.248369</td>\n",
       "      <td>85.587325</td>\n",
       "      <td>64.428629</td>\n",
       "      <td>0.364878</td>\n",
       "    </tr>\n",
       "    <tr>\n",
       "      <th>min</th>\n",
       "      <td>0.000000</td>\n",
       "      <td>0.000000</td>\n",
       "      <td>0.000000</td>\n",
       "      <td>0.000000</td>\n",
       "      <td>150.000000</td>\n",
       "      <td>0.000000</td>\n",
       "      <td>9.000000</td>\n",
       "      <td>12.000000</td>\n",
       "      <td>0.000000</td>\n",
       "    </tr>\n",
       "    <tr>\n",
       "      <th>25%</th>\n",
       "      <td>1.000000</td>\n",
       "      <td>0.000000</td>\n",
       "      <td>1.000000</td>\n",
       "      <td>0.000000</td>\n",
       "      <td>2877.500000</td>\n",
       "      <td>0.000000</td>\n",
       "      <td>100.000000</td>\n",
       "      <td>360.000000</td>\n",
       "      <td>1.000000</td>\n",
       "    </tr>\n",
       "    <tr>\n",
       "      <th>50%</th>\n",
       "      <td>1.000000</td>\n",
       "      <td>0.000000</td>\n",
       "      <td>1.000000</td>\n",
       "      <td>0.000000</td>\n",
       "      <td>3812.500000</td>\n",
       "      <td>1188.500000</td>\n",
       "      <td>128.000000</td>\n",
       "      <td>360.000000</td>\n",
       "      <td>1.000000</td>\n",
       "    </tr>\n",
       "    <tr>\n",
       "      <th>75%</th>\n",
       "      <td>1.000000</td>\n",
       "      <td>1.000000</td>\n",
       "      <td>1.000000</td>\n",
       "      <td>0.000000</td>\n",
       "      <td>5795.000000</td>\n",
       "      <td>2297.250000</td>\n",
       "      <td>168.000000</td>\n",
       "      <td>360.000000</td>\n",
       "      <td>1.000000</td>\n",
       "    </tr>\n",
       "    <tr>\n",
       "      <th>max</th>\n",
       "      <td>1.000000</td>\n",
       "      <td>3.000000</td>\n",
       "      <td>1.000000</td>\n",
       "      <td>1.000000</td>\n",
       "      <td>81000.000000</td>\n",
       "      <td>41667.000000</td>\n",
       "      <td>700.000000</td>\n",
       "      <td>480.000000</td>\n",
       "      <td>1.000000</td>\n",
       "    </tr>\n",
       "  </tbody>\n",
       "</table>\n",
       "</div>"
      ],
      "text/plain": [
       "           Gender  Dependents   Education  Self_Employed  ApplicantIncome  \\\n",
       "count  614.000000  614.000000  614.000000     614.000000       614.000000   \n",
       "mean     0.817590    0.744300    0.781759       0.133550      5403.459283   \n",
       "std      0.386497    1.009623    0.413389       0.340446      6109.041673   \n",
       "min      0.000000    0.000000    0.000000       0.000000       150.000000   \n",
       "25%      1.000000    0.000000    1.000000       0.000000      2877.500000   \n",
       "50%      1.000000    0.000000    1.000000       0.000000      3812.500000   \n",
       "75%      1.000000    1.000000    1.000000       0.000000      5795.000000   \n",
       "max      1.000000    3.000000    1.000000       1.000000     81000.000000   \n",
       "\n",
       "       CoapplicantIncome  LoanAmount  Loan_Amount_Term  Credit_History  \n",
       "count         614.000000  592.000000        614.000000      564.000000  \n",
       "mean         1621.245798  146.412162        342.410423        0.842199  \n",
       "std          2926.248369   85.587325         64.428629        0.364878  \n",
       "min             0.000000    9.000000         12.000000        0.000000  \n",
       "25%             0.000000  100.000000        360.000000        1.000000  \n",
       "50%          1188.500000  128.000000        360.000000        1.000000  \n",
       "75%          2297.250000  168.000000        360.000000        1.000000  \n",
       "max         41667.000000  700.000000        480.000000        1.000000  "
      ]
     },
     "execution_count": 354,
     "metadata": {},
     "output_type": "execute_result"
    }
   ],
   "source": [
    "df.describe()"
   ]
  },
  {
   "cell_type": "markdown",
   "metadata": {},
   "source": [
    "É importante também saber o tamanho da amostra utilizando o método shape, que nos mostra o numero de linhas e colunas:"
   ]
  },
  {
   "cell_type": "code",
   "execution_count": 355,
   "metadata": {},
   "outputs": [
    {
     "data": {
      "text/plain": [
       "(614, 13)"
      ]
     },
     "execution_count": 355,
     "metadata": {},
     "output_type": "execute_result"
    }
   ],
   "source": [
    "df.shape"
   ]
  },
  {
   "cell_type": "markdown",
   "metadata": {},
   "source": [
    "Aparentemente a formatação e tipo de dado estão ok, com algumas exceções, como *Gender*, *Property_Area* e *Loan_Status*, que não está em forma númerica.  \n",
    "\n",
    "Vamos prosseguir com o estudo do dataset, avaliando a coluna Loan_Status, para saber o tamanho da amostra que foi aprovado."
   ]
  },
  {
   "cell_type": "code",
   "execution_count": 356,
   "metadata": {},
   "outputs": [
    {
     "data": {
      "text/plain": [
       "Y    422\n",
       "N    192\n",
       "Name: Loan_Status, dtype: int64"
      ]
     },
     "execution_count": 356,
     "metadata": {},
     "output_type": "execute_result"
    }
   ],
   "source": [
    "# Verificar os elementos distintos da coluna Loan_Status\n",
    "df['Loan_Status'].value_counts()"
   ]
  },
  {
   "cell_type": "markdown",
   "metadata": {},
   "source": [
    "Vamos avaliar os emprestimos, correlacionando ele com a renda do requisitante."
   ]
  },
  {
   "cell_type": "code",
   "execution_count": 357,
   "metadata": {
    "scrolled": true
   },
   "outputs": [
    {
     "data": {
      "image/png": "[encoded data removed]",
      "text/plain": [
       "<Figure size 1008x360 with 2 Axes>"
      ]
     },
     "metadata": {},
     "output_type": "display_data"
    }
   ],
   "source": [
    "# Visualizar a correlação de renda e aprovação\n",
    "# parametro bins define quantidade de grupos de contagem\n",
    "df[['Loan_Status', 'ApplicantIncome']].hist(bins=50, figsize=(14,5),by='Loan_Status') \n",
    "plt.show()"
   ]
  },
  {
   "cell_type": "markdown",
   "metadata": {},
   "source": [
    "Podemos ver que a maior parte dos pedidos vem de renda menor que 10 mil.  \n",
    "\n",
    "Vamos agora conferir como estão distribuidos os pedidos com co-requisitantes.  "
   ]
  },
  {
   "cell_type": "code",
   "execution_count": 358,
   "metadata": {},
   "outputs": [
    {
     "data": {
      "image/png": "[encoded data removed]",
      "text/plain": [
       "<Figure size 720x360 with 1 Axes>"
      ]
     },
     "metadata": {},
     "output_type": "display_data"
    }
   ],
   "source": [
    "# lambda é uma função que executa uma tarefa especifica, como se fosse uma \"função descartavel\"\n",
    "# apply é um método que executa uma função especifica individualmente em cada linha do dataset selecionado.\n",
    "coapplicants = df['CoapplicantIncome'].apply(lambda x: 'N' if x == 0 else 'Y')\n",
    "coapplicants.value_counts().plot(kind='bar', figsize=(10,5))\n",
    "plt.show()"
   ]
  },
  {
   "cell_type": "markdown",
   "metadata": {},
   "source": [
    "A maior parte dos empréstimos aprovados tiveram co-requisitantes. Vamos analisar a correlação disso com a aprovação mais abaixo."
   ]
  },
  {
   "cell_type": "markdown",
   "metadata": {},
   "source": [
    "Esses passos foram para demonstrar que o processo de analise exploratória faz parte do processo de desenvolvimento para soluções em machinel learning. Vamos seguir agora com o processo de feature engineering."
   ]
  },
  {
   "cell_type": "markdown",
   "metadata": {},
   "source": [
    "## Feature Engineering"
   ]
  },
  {
   "cell_type": "markdown",
   "metadata": {},
   "source": [
    "Primeiro, vamos remover a coluna Loan_ID, ela não será necessária."
   ]
  },
  {
   "cell_type": "code",
   "execution_count": 359,
   "metadata": {},
   "outputs": [
    {
     "data": {
      "text/html": [
       "<div>\n",
       "<style scoped>\n",
       "    .dataframe tbody tr th:only-of-type {\n",
       "        vertical-align: middle;\n",
       "    }\n",
       "\n",
       "    .dataframe tbody tr th {\n",
       "        vertical-align: top;\n",
       "    }\n",
       "\n",
       "    .dataframe thead th {\n",
       "        text-align: right;\n",
       "    }\n",
       "</style>\n",
       "<table border=\"1\" class=\"dataframe\">\n",
       "  <thead>\n",
       "    <tr style=\"text-align: right;\">\n",
       "      <th></th>\n",
       "      <th>Gender</th>\n",
       "      <th>Married</th>\n",
       "      <th>Dependents</th>\n",
       "      <th>Education</th>\n",
       "      <th>Self_Employed</th>\n",
       "      <th>ApplicantIncome</th>\n",
       "      <th>CoapplicantIncome</th>\n",
       "      <th>LoanAmount</th>\n",
       "      <th>Loan_Amount_Term</th>\n",
       "      <th>Credit_History</th>\n",
       "      <th>Property_Area</th>\n",
       "      <th>Loan_Status</th>\n",
       "    </tr>\n",
       "  </thead>\n",
       "  <tbody>\n",
       "    <tr>\n",
       "      <th>0</th>\n",
       "      <td>1.0</td>\n",
       "      <td>No</td>\n",
       "      <td>0.0</td>\n",
       "      <td>1</td>\n",
       "      <td>0.0</td>\n",
       "      <td>5849</td>\n",
       "      <td>0.0</td>\n",
       "      <td>NaN</td>\n",
       "      <td>360.0</td>\n",
       "      <td>1.0</td>\n",
       "      <td>Urban</td>\n",
       "      <td>Y</td>\n",
       "    </tr>\n",
       "    <tr>\n",
       "      <th>1</th>\n",
       "      <td>1.0</td>\n",
       "      <td>Yes</td>\n",
       "      <td>1.0</td>\n",
       "      <td>1</td>\n",
       "      <td>0.0</td>\n",
       "      <td>4583</td>\n",
       "      <td>1508.0</td>\n",
       "      <td>128.0</td>\n",
       "      <td>360.0</td>\n",
       "      <td>1.0</td>\n",
       "      <td>Rural</td>\n",
       "      <td>N</td>\n",
       "    </tr>\n",
       "    <tr>\n",
       "      <th>2</th>\n",
       "      <td>1.0</td>\n",
       "      <td>Yes</td>\n",
       "      <td>0.0</td>\n",
       "      <td>1</td>\n",
       "      <td>1.0</td>\n",
       "      <td>3000</td>\n",
       "      <td>0.0</td>\n",
       "      <td>66.0</td>\n",
       "      <td>360.0</td>\n",
       "      <td>1.0</td>\n",
       "      <td>Urban</td>\n",
       "      <td>Y</td>\n",
       "    </tr>\n",
       "    <tr>\n",
       "      <th>3</th>\n",
       "      <td>1.0</td>\n",
       "      <td>Yes</td>\n",
       "      <td>0.0</td>\n",
       "      <td>0</td>\n",
       "      <td>0.0</td>\n",
       "      <td>2583</td>\n",
       "      <td>2358.0</td>\n",
       "      <td>120.0</td>\n",
       "      <td>360.0</td>\n",
       "      <td>1.0</td>\n",
       "      <td>Urban</td>\n",
       "      <td>Y</td>\n",
       "    </tr>\n",
       "    <tr>\n",
       "      <th>4</th>\n",
       "      <td>1.0</td>\n",
       "      <td>No</td>\n",
       "      <td>0.0</td>\n",
       "      <td>1</td>\n",
       "      <td>0.0</td>\n",
       "      <td>6000</td>\n",
       "      <td>0.0</td>\n",
       "      <td>141.0</td>\n",
       "      <td>360.0</td>\n",
       "      <td>1.0</td>\n",
       "      <td>Urban</td>\n",
       "      <td>Y</td>\n",
       "    </tr>\n",
       "  </tbody>\n",
       "</table>\n",
       "</div>"
      ],
      "text/plain": [
       "   Gender Married  Dependents  Education  Self_Employed  ApplicantIncome  \\\n",
       "0     1.0      No         0.0          1            0.0             5849   \n",
       "1     1.0     Yes         1.0          1            0.0             4583   \n",
       "2     1.0     Yes         0.0          1            1.0             3000   \n",
       "3     1.0     Yes         0.0          0            0.0             2583   \n",
       "4     1.0      No         0.0          1            0.0             6000   \n",
       "\n",
       "   CoapplicantIncome  LoanAmount  Loan_Amount_Term  Credit_History  \\\n",
       "0                0.0         NaN             360.0             1.0   \n",
       "1             1508.0       128.0             360.0             1.0   \n",
       "2                0.0        66.0             360.0             1.0   \n",
       "3             2358.0       120.0             360.0             1.0   \n",
       "4                0.0       141.0             360.0             1.0   \n",
       "\n",
       "  Property_Area Loan_Status  \n",
       "0         Urban           Y  \n",
       "1         Rural           N  \n",
       "2         Urban           Y  \n",
       "3         Urban           Y  \n",
       "4         Urban           Y  "
      ]
     },
     "execution_count": 359,
     "metadata": {},
     "output_type": "execute_result"
    }
   ],
   "source": [
    "# Parametro inplace faz atribuição da mudança à variavel do dataframe\n",
    "df.drop('Loan_ID', axis=1, inplace=True) # axis: 0 é remoção nível linha, 1 é nível coluna\n",
    "\n",
    "df.head()"
   ]
  },
  {
   "cell_type": "markdown",
   "metadata": {},
   "source": [
    "Em seguida, vamos renomear as colunas para melhor identificação."
   ]
  },
  {
   "cell_type": "code",
   "execution_count": 360,
   "metadata": {},
   "outputs": [
    {
     "data": {
      "text/plain": [
       "Index(['Gender', 'Married', 'Dependents', 'Education', 'Self_Employed',\n",
       "       'ApplicantIncome', 'CoapplicantIncome', 'LoanAmount',\n",
       "       'Loan_Amount_Term', 'Credit_History', 'Property_Area', 'Loan_Status'],\n",
       "      dtype='object')"
      ]
     },
     "execution_count": 360,
     "metadata": {},
     "output_type": "execute_result"
    }
   ],
   "source": [
    "# lista as colunas para que possamos ter mais facilidade na renomeação\n",
    "df.columns"
   ]
  },
  {
   "cell_type": "code",
   "execution_count": 361,
   "metadata": {},
   "outputs": [],
   "source": [
    "# Aplicamos novos nomes nas colunas\n",
    "df.columns = ['Masculino', 'Casado', 'QtdDependentes', 'Graduado', 'Empreendedor',\n",
    "       'ValorRendaRequisitante', 'ValorRendaCoRequisitante', 'ValorEmprestimo',\n",
    "       'DuracaoEmprestimo', 'TemHistoricoCredito', 'TipoAreaResidencia', 'EmprestimoAprovado']"
   ]
  },
  {
   "cell_type": "markdown",
   "metadata": {},
   "source": [
    "O próximo passo é tornar as colunas catégoricas em númericas."
   ]
  },
  {
   "cell_type": "code",
   "execution_count": 362,
   "metadata": {},
   "outputs": [
    {
     "name": "stdout",
     "output_type": "stream",
     "text": [
      "Tipo Coluna Casado: float64\n",
      "Tipo Coluna EmprestimoAprovado: int64\n"
     ]
    },
    {
     "data": {
      "text/html": [
       "<div>\n",
       "<style scoped>\n",
       "    .dataframe tbody tr th:only-of-type {\n",
       "        vertical-align: middle;\n",
       "    }\n",
       "\n",
       "    .dataframe tbody tr th {\n",
       "        vertical-align: top;\n",
       "    }\n",
       "\n",
       "    .dataframe thead th {\n",
       "        text-align: right;\n",
       "    }\n",
       "</style>\n",
       "<table border=\"1\" class=\"dataframe\">\n",
       "  <thead>\n",
       "    <tr style=\"text-align: right;\">\n",
       "      <th></th>\n",
       "      <th>Masculino</th>\n",
       "      <th>Casado</th>\n",
       "      <th>QtdDependentes</th>\n",
       "      <th>Graduado</th>\n",
       "      <th>Empreendedor</th>\n",
       "      <th>ValorRendaRequisitante</th>\n",
       "      <th>ValorRendaCoRequisitante</th>\n",
       "      <th>ValorEmprestimo</th>\n",
       "      <th>DuracaoEmprestimo</th>\n",
       "      <th>TemHistoricoCredito</th>\n",
       "      <th>TipoAreaResidencia</th>\n",
       "      <th>EmprestimoAprovado</th>\n",
       "    </tr>\n",
       "  </thead>\n",
       "  <tbody>\n",
       "    <tr>\n",
       "      <th>0</th>\n",
       "      <td>1.0</td>\n",
       "      <td>0.0</td>\n",
       "      <td>0.0</td>\n",
       "      <td>1</td>\n",
       "      <td>0.0</td>\n",
       "      <td>5849</td>\n",
       "      <td>0.0</td>\n",
       "      <td>NaN</td>\n",
       "      <td>360.0</td>\n",
       "      <td>1.0</td>\n",
       "      <td>Urban</td>\n",
       "      <td>1</td>\n",
       "    </tr>\n",
       "    <tr>\n",
       "      <th>1</th>\n",
       "      <td>1.0</td>\n",
       "      <td>1.0</td>\n",
       "      <td>1.0</td>\n",
       "      <td>1</td>\n",
       "      <td>0.0</td>\n",
       "      <td>4583</td>\n",
       "      <td>1508.0</td>\n",
       "      <td>128.0</td>\n",
       "      <td>360.0</td>\n",
       "      <td>1.0</td>\n",
       "      <td>Rural</td>\n",
       "      <td>0</td>\n",
       "    </tr>\n",
       "    <tr>\n",
       "      <th>2</th>\n",
       "      <td>1.0</td>\n",
       "      <td>1.0</td>\n",
       "      <td>0.0</td>\n",
       "      <td>1</td>\n",
       "      <td>1.0</td>\n",
       "      <td>3000</td>\n",
       "      <td>0.0</td>\n",
       "      <td>66.0</td>\n",
       "      <td>360.0</td>\n",
       "      <td>1.0</td>\n",
       "      <td>Urban</td>\n",
       "      <td>1</td>\n",
       "    </tr>\n",
       "    <tr>\n",
       "      <th>3</th>\n",
       "      <td>1.0</td>\n",
       "      <td>1.0</td>\n",
       "      <td>0.0</td>\n",
       "      <td>0</td>\n",
       "      <td>0.0</td>\n",
       "      <td>2583</td>\n",
       "      <td>2358.0</td>\n",
       "      <td>120.0</td>\n",
       "      <td>360.0</td>\n",
       "      <td>1.0</td>\n",
       "      <td>Urban</td>\n",
       "      <td>1</td>\n",
       "    </tr>\n",
       "    <tr>\n",
       "      <th>4</th>\n",
       "      <td>1.0</td>\n",
       "      <td>0.0</td>\n",
       "      <td>0.0</td>\n",
       "      <td>1</td>\n",
       "      <td>0.0</td>\n",
       "      <td>6000</td>\n",
       "      <td>0.0</td>\n",
       "      <td>141.0</td>\n",
       "      <td>360.0</td>\n",
       "      <td>1.0</td>\n",
       "      <td>Urban</td>\n",
       "      <td>1</td>\n",
       "    </tr>\n",
       "  </tbody>\n",
       "</table>\n",
       "</div>"
      ],
      "text/plain": [
       "   Masculino  Casado  QtdDependentes  Graduado  Empreendedor  \\\n",
       "0        1.0     0.0             0.0         1           0.0   \n",
       "1        1.0     1.0             1.0         1           0.0   \n",
       "2        1.0     1.0             0.0         1           1.0   \n",
       "3        1.0     1.0             0.0         0           0.0   \n",
       "4        1.0     0.0             0.0         1           0.0   \n",
       "\n",
       "   ValorRendaRequisitante  ValorRendaCoRequisitante  ValorEmprestimo  \\\n",
       "0                    5849                       0.0              NaN   \n",
       "1                    4583                    1508.0            128.0   \n",
       "2                    3000                       0.0             66.0   \n",
       "3                    2583                    2358.0            120.0   \n",
       "4                    6000                       0.0            141.0   \n",
       "\n",
       "   DuracaoEmprestimo  TemHistoricoCredito TipoAreaResidencia  \\\n",
       "0              360.0                  1.0              Urban   \n",
       "1              360.0                  1.0              Rural   \n",
       "2              360.0                  1.0              Urban   \n",
       "3              360.0                  1.0              Urban   \n",
       "4              360.0                  1.0              Urban   \n",
       "\n",
       "   EmprestimoAprovado  \n",
       "0                   1  \n",
       "1                   0  \n",
       "2                   1  \n",
       "3                   1  \n",
       "4                   1  "
      ]
     },
     "execution_count": 362,
     "metadata": {},
     "output_type": "execute_result"
    }
   ],
   "source": [
    "# Mapper com valores da coluna Casado\n",
    "mapper = { 'Yes': 1, 'No':  0}\n",
    "\n",
    "# Quantifica o valor\n",
    "df['Casado'] = df['Casado'].map(mapper)\n",
    "\n",
    "# Confere que o valor virou númerico(int ou float):\n",
    "print('Tipo Coluna Casado: ' + str(df['Casado'].dtype)) #precisamos do print pois há mais códigos abaixo\n",
    "\n",
    "# Mudamos o mapper agora para os valores da coluna EmprestimoAprovado e efetuamos o mesmo processo.\n",
    "mapper = { 'Y': 1, 'N': 0 }\n",
    "df['EmprestimoAprovado'] = df['EmprestimoAprovado'].map(mapper)\n",
    "print('Tipo Coluna EmprestimoAprovado: ' + str(df['EmprestimoAprovado'].dtype))\n",
    "\n",
    "df.head()"
   ]
  },
  {
   "cell_type": "markdown",
   "metadata": {},
   "source": [
    "Vamos conferir quantos valores nulos temos no dataset:"
   ]
  },
  {
   "cell_type": "code",
   "execution_count": 363,
   "metadata": {},
   "outputs": [
    {
     "data": {
      "text/plain": [
       "TemHistoricoCredito         50\n",
       "ValorEmprestimo             22\n",
       "Casado                       3\n",
       "EmprestimoAprovado           0\n",
       "TipoAreaResidencia           0\n",
       "DuracaoEmprestimo            0\n",
       "ValorRendaCoRequisitante     0\n",
       "ValorRendaRequisitante       0\n",
       "Empreendedor                 0\n",
       "Graduado                     0\n",
       "QtdDependentes               0\n",
       "Masculino                    0\n",
       "dtype: int64"
      ]
     },
     "execution_count": 363,
     "metadata": {},
     "output_type": "execute_result"
    }
   ],
   "source": [
    "df.isnull().sum().sort_values(ascending=False)"
   ]
  },
  {
   "cell_type": "markdown",
   "metadata": {},
   "source": [
    "Vamos lidar com esses dados utilizando técnicas de inputação de dados."
   ]
  },
  {
   "cell_type": "code",
   "execution_count": 364,
   "metadata": {},
   "outputs": [
    {
     "data": {
      "text/html": [
       "<div>\n",
       "<style scoped>\n",
       "    .dataframe tbody tr th:only-of-type {\n",
       "        vertical-align: middle;\n",
       "    }\n",
       "\n",
       "    .dataframe tbody tr th {\n",
       "        vertical-align: top;\n",
       "    }\n",
       "\n",
       "    .dataframe thead th {\n",
       "        text-align: right;\n",
       "    }\n",
       "</style>\n",
       "<table border=\"1\" class=\"dataframe\">\n",
       "  <thead>\n",
       "    <tr style=\"text-align: right;\">\n",
       "      <th></th>\n",
       "      <th>Masculino</th>\n",
       "      <th>Casado</th>\n",
       "      <th>QtdDependentes</th>\n",
       "      <th>Graduado</th>\n",
       "      <th>Empreendedor</th>\n",
       "      <th>ValorRendaRequisitante</th>\n",
       "      <th>ValorRendaCoRequisitante</th>\n",
       "      <th>ValorEmprestimo</th>\n",
       "      <th>DuracaoEmprestimo</th>\n",
       "      <th>TemHistoricoCredito</th>\n",
       "      <th>TipoAreaResidencia</th>\n",
       "      <th>EmprestimoAprovado</th>\n",
       "    </tr>\n",
       "  </thead>\n",
       "  <tbody>\n",
       "    <tr>\n",
       "      <th>0</th>\n",
       "      <td>1.0</td>\n",
       "      <td>0.0</td>\n",
       "      <td>0.0</td>\n",
       "      <td>1</td>\n",
       "      <td>0.0</td>\n",
       "      <td>5849</td>\n",
       "      <td>0.0</td>\n",
       "      <td>146.369492</td>\n",
       "      <td>360.0</td>\n",
       "      <td>1.0</td>\n",
       "      <td>Urban</td>\n",
       "      <td>1</td>\n",
       "    </tr>\n",
       "    <tr>\n",
       "      <th>1</th>\n",
       "      <td>1.0</td>\n",
       "      <td>1.0</td>\n",
       "      <td>1.0</td>\n",
       "      <td>1</td>\n",
       "      <td>0.0</td>\n",
       "      <td>4583</td>\n",
       "      <td>1508.0</td>\n",
       "      <td>128.000000</td>\n",
       "      <td>360.0</td>\n",
       "      <td>1.0</td>\n",
       "      <td>Rural</td>\n",
       "      <td>0</td>\n",
       "    </tr>\n",
       "    <tr>\n",
       "      <th>2</th>\n",
       "      <td>1.0</td>\n",
       "      <td>1.0</td>\n",
       "      <td>0.0</td>\n",
       "      <td>1</td>\n",
       "      <td>1.0</td>\n",
       "      <td>3000</td>\n",
       "      <td>0.0</td>\n",
       "      <td>66.000000</td>\n",
       "      <td>360.0</td>\n",
       "      <td>1.0</td>\n",
       "      <td>Urban</td>\n",
       "      <td>1</td>\n",
       "    </tr>\n",
       "    <tr>\n",
       "      <th>3</th>\n",
       "      <td>1.0</td>\n",
       "      <td>1.0</td>\n",
       "      <td>0.0</td>\n",
       "      <td>0</td>\n",
       "      <td>0.0</td>\n",
       "      <td>2583</td>\n",
       "      <td>2358.0</td>\n",
       "      <td>120.000000</td>\n",
       "      <td>360.0</td>\n",
       "      <td>1.0</td>\n",
       "      <td>Urban</td>\n",
       "      <td>1</td>\n",
       "    </tr>\n",
       "    <tr>\n",
       "      <th>4</th>\n",
       "      <td>1.0</td>\n",
       "      <td>0.0</td>\n",
       "      <td>0.0</td>\n",
       "      <td>1</td>\n",
       "      <td>0.0</td>\n",
       "      <td>6000</td>\n",
       "      <td>0.0</td>\n",
       "      <td>141.000000</td>\n",
       "      <td>360.0</td>\n",
       "      <td>1.0</td>\n",
       "      <td>Urban</td>\n",
       "      <td>1</td>\n",
       "    </tr>\n",
       "  </tbody>\n",
       "</table>\n",
       "</div>"
      ],
      "text/plain": [
       "   Masculino  Casado  QtdDependentes  Graduado  Empreendedor  \\\n",
       "0        1.0     0.0             0.0         1           0.0   \n",
       "1        1.0     1.0             1.0         1           0.0   \n",
       "2        1.0     1.0             0.0         1           1.0   \n",
       "3        1.0     1.0             0.0         0           0.0   \n",
       "4        1.0     0.0             0.0         1           0.0   \n",
       "\n",
       "   ValorRendaRequisitante  ValorRendaCoRequisitante  ValorEmprestimo  \\\n",
       "0                    5849                       0.0       146.369492   \n",
       "1                    4583                    1508.0       128.000000   \n",
       "2                    3000                       0.0        66.000000   \n",
       "3                    2583                    2358.0       120.000000   \n",
       "4                    6000                       0.0       141.000000   \n",
       "\n",
       "   DuracaoEmprestimo  TemHistoricoCredito TipoAreaResidencia  \\\n",
       "0              360.0                  1.0              Urban   \n",
       "1              360.0                  1.0              Rural   \n",
       "2              360.0                  1.0              Urban   \n",
       "3              360.0                  1.0              Urban   \n",
       "4              360.0                  1.0              Urban   \n",
       "\n",
       "   EmprestimoAprovado  \n",
       "0                   1  \n",
       "1                   0  \n",
       "2                   1  \n",
       "3                   1  \n",
       "4                   1  "
      ]
     },
     "execution_count": 364,
     "metadata": {},
     "output_type": "execute_result"
    }
   ],
   "source": [
    "# Eliminamos as linhas com Casado Nulo, pois são poucas\n",
    "df = df.dropna(subset=['Casado'])\n",
    "\n",
    "# Preencher nulos da coluna ValorEmprestimo com a média de valores\n",
    "df['ValorEmprestimo'].fillna(df['ValorEmprestimo'].mean(), inplace=True)\n",
    "\n",
    "df.head()"
   ]
  },
  {
   "cell_type": "markdown",
   "metadata": {},
   "source": [
    "Vamos avaliar a coluna TemHistoricoCredito para decidir como preenche-la"
   ]
  },
  {
   "cell_type": "code",
   "execution_count": 365,
   "metadata": {},
   "outputs": [
    {
     "data": {
      "text/plain": [
       "1.0    472\n",
       "0.0     89\n",
       "Name: TemHistoricoCredito, dtype: int64"
      ]
     },
     "execution_count": 365,
     "metadata": {},
     "output_type": "execute_result"
    }
   ],
   "source": [
    "df['TemHistoricoCredito'].value_counts()"
   ]
  },
  {
   "cell_type": "markdown",
   "metadata": {},
   "source": [
    "A grande maioria é 1, então podemos arriscar preencher os numeros com esse valor para conferirmos o resultado. Caso ele não seja bom podemos reavaliar essa decisão."
   ]
  },
  {
   "cell_type": "code",
   "execution_count": 366,
   "metadata": {},
   "outputs": [
    {
     "data": {
      "text/html": [
       "<div>\n",
       "<style scoped>\n",
       "    .dataframe tbody tr th:only-of-type {\n",
       "        vertical-align: middle;\n",
       "    }\n",
       "\n",
       "    .dataframe tbody tr th {\n",
       "        vertical-align: top;\n",
       "    }\n",
       "\n",
       "    .dataframe thead th {\n",
       "        text-align: right;\n",
       "    }\n",
       "</style>\n",
       "<table border=\"1\" class=\"dataframe\">\n",
       "  <thead>\n",
       "    <tr style=\"text-align: right;\">\n",
       "      <th></th>\n",
       "      <th>Masculino</th>\n",
       "      <th>Casado</th>\n",
       "      <th>QtdDependentes</th>\n",
       "      <th>Graduado</th>\n",
       "      <th>Empreendedor</th>\n",
       "      <th>ValorRendaRequisitante</th>\n",
       "      <th>ValorRendaCoRequisitante</th>\n",
       "      <th>ValorEmprestimo</th>\n",
       "      <th>DuracaoEmprestimo</th>\n",
       "      <th>TemHistoricoCredito</th>\n",
       "      <th>TipoAreaResidencia</th>\n",
       "      <th>EmprestimoAprovado</th>\n",
       "    </tr>\n",
       "  </thead>\n",
       "  <tbody>\n",
       "    <tr>\n",
       "      <th>0</th>\n",
       "      <td>1.0</td>\n",
       "      <td>0.0</td>\n",
       "      <td>0.0</td>\n",
       "      <td>1</td>\n",
       "      <td>0.0</td>\n",
       "      <td>5849</td>\n",
       "      <td>0.0</td>\n",
       "      <td>146.369492</td>\n",
       "      <td>360.0</td>\n",
       "      <td>1.0</td>\n",
       "      <td>Urban</td>\n",
       "      <td>1</td>\n",
       "    </tr>\n",
       "    <tr>\n",
       "      <th>1</th>\n",
       "      <td>1.0</td>\n",
       "      <td>1.0</td>\n",
       "      <td>1.0</td>\n",
       "      <td>1</td>\n",
       "      <td>0.0</td>\n",
       "      <td>4583</td>\n",
       "      <td>1508.0</td>\n",
       "      <td>128.000000</td>\n",
       "      <td>360.0</td>\n",
       "      <td>1.0</td>\n",
       "      <td>Rural</td>\n",
       "      <td>0</td>\n",
       "    </tr>\n",
       "    <tr>\n",
       "      <th>2</th>\n",
       "      <td>1.0</td>\n",
       "      <td>1.0</td>\n",
       "      <td>0.0</td>\n",
       "      <td>1</td>\n",
       "      <td>1.0</td>\n",
       "      <td>3000</td>\n",
       "      <td>0.0</td>\n",
       "      <td>66.000000</td>\n",
       "      <td>360.0</td>\n",
       "      <td>1.0</td>\n",
       "      <td>Urban</td>\n",
       "      <td>1</td>\n",
       "    </tr>\n",
       "    <tr>\n",
       "      <th>3</th>\n",
       "      <td>1.0</td>\n",
       "      <td>1.0</td>\n",
       "      <td>0.0</td>\n",
       "      <td>0</td>\n",
       "      <td>0.0</td>\n",
       "      <td>2583</td>\n",
       "      <td>2358.0</td>\n",
       "      <td>120.000000</td>\n",
       "      <td>360.0</td>\n",
       "      <td>1.0</td>\n",
       "      <td>Urban</td>\n",
       "      <td>1</td>\n",
       "    </tr>\n",
       "    <tr>\n",
       "      <th>4</th>\n",
       "      <td>1.0</td>\n",
       "      <td>0.0</td>\n",
       "      <td>0.0</td>\n",
       "      <td>1</td>\n",
       "      <td>0.0</td>\n",
       "      <td>6000</td>\n",
       "      <td>0.0</td>\n",
       "      <td>141.000000</td>\n",
       "      <td>360.0</td>\n",
       "      <td>1.0</td>\n",
       "      <td>Urban</td>\n",
       "      <td>1</td>\n",
       "    </tr>\n",
       "  </tbody>\n",
       "</table>\n",
       "</div>"
      ],
      "text/plain": [
       "   Masculino  Casado  QtdDependentes  Graduado  Empreendedor  \\\n",
       "0        1.0     0.0             0.0         1           0.0   \n",
       "1        1.0     1.0             1.0         1           0.0   \n",
       "2        1.0     1.0             0.0         1           1.0   \n",
       "3        1.0     1.0             0.0         0           0.0   \n",
       "4        1.0     0.0             0.0         1           0.0   \n",
       "\n",
       "   ValorRendaRequisitante  ValorRendaCoRequisitante  ValorEmprestimo  \\\n",
       "0                    5849                       0.0       146.369492   \n",
       "1                    4583                    1508.0       128.000000   \n",
       "2                    3000                       0.0        66.000000   \n",
       "3                    2583                    2358.0       120.000000   \n",
       "4                    6000                       0.0       141.000000   \n",
       "\n",
       "   DuracaoEmprestimo  TemHistoricoCredito TipoAreaResidencia  \\\n",
       "0              360.0                  1.0              Urban   \n",
       "1              360.0                  1.0              Rural   \n",
       "2              360.0                  1.0              Urban   \n",
       "3              360.0                  1.0              Urban   \n",
       "4              360.0                  1.0              Urban   \n",
       "\n",
       "   EmprestimoAprovado  \n",
       "0                   1  \n",
       "1                   0  \n",
       "2                   1  \n",
       "3                   1  \n",
       "4                   1  "
      ]
     },
     "execution_count": 366,
     "metadata": {},
     "output_type": "execute_result"
    }
   ],
   "source": [
    "# Usamos o método index[0] no método value_counts para \n",
    "# automaticamente selecionar o primeiro valor, que é o que possui contagem maior\n",
    "df['TemHistoricoCredito'].fillna(df['TemHistoricoCredito'].value_counts().index[0], inplace=True)\n",
    "\n",
    "df.head()"
   ]
  },
  {
   "cell_type": "markdown",
   "metadata": {},
   "source": [
    "Vamos avaliar a amostra geral agora:"
   ]
  },
  {
   "cell_type": "code",
   "execution_count": 367,
   "metadata": {},
   "outputs": [
    {
     "data": {
      "text/plain": [
       "(611, 12)"
      ]
     },
     "execution_count": 367,
     "metadata": {},
     "output_type": "execute_result"
    }
   ],
   "source": [
    "df.shape"
   ]
  },
  {
   "cell_type": "markdown",
   "metadata": {},
   "source": [
    "Ainda há uma coluna para ser quantificada, que é a TipoAreaResidencia.  \n",
    "Começamos verificando quais seus valores unicos."
   ]
  },
  {
   "cell_type": "code",
   "execution_count": 368,
   "metadata": {
    "scrolled": true
   },
   "outputs": [
    {
     "data": {
      "text/plain": [
       "array(['Urban', 'Rural', 'Semiurban'], dtype=object)"
      ]
     },
     "execution_count": 368,
     "metadata": {},
     "output_type": "execute_result"
    }
   ],
   "source": [
    "df['TipoAreaResidencia'].unique()"
   ]
  },
  {
   "cell_type": "markdown",
   "metadata": {},
   "source": [
    "Vamos utilizar a técnica **One Hot Encoding**, que significa criar uma coluna para cada valor da coluna *TipoAreaResidencia*, transformando essa informação em três colunas booleanas (Sim ou Não)"
   ]
  },
  {
   "cell_type": "code",
   "execution_count": 369,
   "metadata": {
    "scrolled": false
   },
   "outputs": [
    {
     "data": {
      "text/html": [
       "<div>\n",
       "<style scoped>\n",
       "    .dataframe tbody tr th:only-of-type {\n",
       "        vertical-align: middle;\n",
       "    }\n",
       "\n",
       "    .dataframe tbody tr th {\n",
       "        vertical-align: top;\n",
       "    }\n",
       "\n",
       "    .dataframe thead th {\n",
       "        text-align: right;\n",
       "    }\n",
       "</style>\n",
       "<table border=\"1\" class=\"dataframe\">\n",
       "  <thead>\n",
       "    <tr style=\"text-align: right;\">\n",
       "      <th></th>\n",
       "      <th>Masculino</th>\n",
       "      <th>Casado</th>\n",
       "      <th>QtdDependentes</th>\n",
       "      <th>Graduado</th>\n",
       "      <th>Empreendedor</th>\n",
       "      <th>ValorRendaRequisitante</th>\n",
       "      <th>ValorRendaCoRequisitante</th>\n",
       "      <th>ValorEmprestimo</th>\n",
       "      <th>DuracaoEmprestimo</th>\n",
       "      <th>TemHistoricoCredito</th>\n",
       "      <th>EmprestimoAprovado</th>\n",
       "      <th>TipoAreaResidencia_Rural</th>\n",
       "      <th>TipoAreaResidencia_Semiurban</th>\n",
       "      <th>TipoAreaResidencia_Urban</th>\n",
       "    </tr>\n",
       "  </thead>\n",
       "  <tbody>\n",
       "    <tr>\n",
       "      <th>0</th>\n",
       "      <td>1.0</td>\n",
       "      <td>0.0</td>\n",
       "      <td>0.0</td>\n",
       "      <td>1</td>\n",
       "      <td>0.0</td>\n",
       "      <td>5849</td>\n",
       "      <td>0.0</td>\n",
       "      <td>146.369492</td>\n",
       "      <td>360.0</td>\n",
       "      <td>1.0</td>\n",
       "      <td>1</td>\n",
       "      <td>0</td>\n",
       "      <td>0</td>\n",
       "      <td>1</td>\n",
       "    </tr>\n",
       "    <tr>\n",
       "      <th>1</th>\n",
       "      <td>1.0</td>\n",
       "      <td>1.0</td>\n",
       "      <td>1.0</td>\n",
       "      <td>1</td>\n",
       "      <td>0.0</td>\n",
       "      <td>4583</td>\n",
       "      <td>1508.0</td>\n",
       "      <td>128.000000</td>\n",
       "      <td>360.0</td>\n",
       "      <td>1.0</td>\n",
       "      <td>0</td>\n",
       "      <td>1</td>\n",
       "      <td>0</td>\n",
       "      <td>0</td>\n",
       "    </tr>\n",
       "    <tr>\n",
       "      <th>2</th>\n",
       "      <td>1.0</td>\n",
       "      <td>1.0</td>\n",
       "      <td>0.0</td>\n",
       "      <td>1</td>\n",
       "      <td>1.0</td>\n",
       "      <td>3000</td>\n",
       "      <td>0.0</td>\n",
       "      <td>66.000000</td>\n",
       "      <td>360.0</td>\n",
       "      <td>1.0</td>\n",
       "      <td>1</td>\n",
       "      <td>0</td>\n",
       "      <td>0</td>\n",
       "      <td>1</td>\n",
       "    </tr>\n",
       "    <tr>\n",
       "      <th>3</th>\n",
       "      <td>1.0</td>\n",
       "      <td>1.0</td>\n",
       "      <td>0.0</td>\n",
       "      <td>0</td>\n",
       "      <td>0.0</td>\n",
       "      <td>2583</td>\n",
       "      <td>2358.0</td>\n",
       "      <td>120.000000</td>\n",
       "      <td>360.0</td>\n",
       "      <td>1.0</td>\n",
       "      <td>1</td>\n",
       "      <td>0</td>\n",
       "      <td>0</td>\n",
       "      <td>1</td>\n",
       "    </tr>\n",
       "    <tr>\n",
       "      <th>4</th>\n",
       "      <td>1.0</td>\n",
       "      <td>0.0</td>\n",
       "      <td>0.0</td>\n",
       "      <td>1</td>\n",
       "      <td>0.0</td>\n",
       "      <td>6000</td>\n",
       "      <td>0.0</td>\n",
       "      <td>141.000000</td>\n",
       "      <td>360.0</td>\n",
       "      <td>1.0</td>\n",
       "      <td>1</td>\n",
       "      <td>0</td>\n",
       "      <td>0</td>\n",
       "      <td>1</td>\n",
       "    </tr>\n",
       "  </tbody>\n",
       "</table>\n",
       "</div>"
      ],
      "text/plain": [
       "   Masculino  Casado  QtdDependentes  Graduado  Empreendedor  \\\n",
       "0        1.0     0.0             0.0         1           0.0   \n",
       "1        1.0     1.0             1.0         1           0.0   \n",
       "2        1.0     1.0             0.0         1           1.0   \n",
       "3        1.0     1.0             0.0         0           0.0   \n",
       "4        1.0     0.0             0.0         1           0.0   \n",
       "\n",
       "   ValorRendaRequisitante  ValorRendaCoRequisitante  ValorEmprestimo  \\\n",
       "0                    5849                       0.0       146.369492   \n",
       "1                    4583                    1508.0       128.000000   \n",
       "2                    3000                       0.0        66.000000   \n",
       "3                    2583                    2358.0       120.000000   \n",
       "4                    6000                       0.0       141.000000   \n",
       "\n",
       "   DuracaoEmprestimo  TemHistoricoCredito  EmprestimoAprovado  \\\n",
       "0              360.0                  1.0                   1   \n",
       "1              360.0                  1.0                   0   \n",
       "2              360.0                  1.0                   1   \n",
       "3              360.0                  1.0                   1   \n",
       "4              360.0                  1.0                   1   \n",
       "\n",
       "   TipoAreaResidencia_Rural  TipoAreaResidencia_Semiurban  \\\n",
       "0                         0                             0   \n",
       "1                         1                             0   \n",
       "2                         0                             0   \n",
       "3                         0                             0   \n",
       "4                         0                             0   \n",
       "\n",
       "   TipoAreaResidencia_Urban  \n",
       "0                         1  \n",
       "1                         0  \n",
       "2                         1  \n",
       "3                         1  \n",
       "4                         1  "
      ]
     },
     "execution_count": 369,
     "metadata": {},
     "output_type": "execute_result"
    }
   ],
   "source": [
    "# método get_dummies executa a técnica one-hot encoding\n",
    "df = pd.get_dummies(df, columns=['TipoAreaResidencia'])\n",
    "\n",
    "df.head()"
   ]
  },
  {
   "cell_type": "markdown",
   "metadata": {},
   "source": [
    "Vamos avaliar a correlação das colunas"
   ]
  },
  {
   "cell_type": "code",
   "execution_count": 370,
   "metadata": {
    "scrolled": false
   },
   "outputs": [
    {
     "data": {
      "image/png": "[encoded data removed]",
      "text/plain": [
       "<Figure size 864x432 with 2 Axes>"
      ]
     },
     "metadata": {},
     "output_type": "display_data"
    }
   ],
   "source": [
    "plt.figure(figsize=(12,6))\n",
    "\n",
    "sns.heatmap(df.corr(), annot=True)\n",
    "plt.show()"
   ]
  },
  {
   "cell_type": "markdown",
   "metadata": {},
   "source": [
    "Quanto mais escuro a cor, ou quanto mais clara, maior a correlação (respectivamente, inversa e direta).  \n",
    "\n",
    "Podemos verificar uma correlação direta moderada entre *EmprestimoAprovado* e *TemHistóricoCredito*, assim como entre *ValorEmprestimo* e *RendaRequisitante*.  \n",
    "\n",
    "Também existe uma correlação entre *EmprestimoAprovado* e *TipoAreaResidencia_Semiurban*, porém é muito fraca.\n",
    "\n",
    "Veja imagem abaixo como referência para a força da correlação:\n",
    "![](data:image/png;base64,iVBORw0KGgoAAAANSUhEUgAAAS4AAACnCAMAAACYVkHVAAAC/VBMVEX///8AAAD29vYiIiKGhoa9vb3Jycnc3Nyampp9fX3f399dXV2np6fY2Nj/AAAZGRn///nQ0tP//+75//////fu7+///+Hm5+f///OLi4v5+v3y//9lAACLMAAvACm9l3NVAADp//8gAAAAACAAAE///+fU/////8u4//8AAA4AAEArfsQAACMAAF/Z7v8QEBDA4v/y7MDc4/FFAABfgLD/0IU+AADS6/8AOpooeLv/7Lvr8vwAAFUdZ6P/ABH/JQC/rW3/5P+13+r/45r/0KcAAEgqAACHrMoAABn/8PD//7T/tv//ADH/6agTAAD/2M7/iYn/+6E0AADF//8AWqUAADHmzcDh0ahakqsAAG5BIAD//8T//9hgPg0AKEmGZTFsW36x6f+khVAAbsrBm1SH1uNrqOtxJwBAAB91zf81j93/lKz/AEn/ajH/4fD/AG//TABGRkZSMADWrJSSVQAAGkSXvu6O4P8AZbXfv67lu2gARZ1/RgD/6c8+eJp9GABaEwAAOXKURiGpeSr/m8P/fFr/pKX/tNv/AFP/0bD/VHb/mV//0P//u2j/TpH/eJ//YWH/WgCpzcfZ+N5xSGtWiJSwjW0AJRS3rIckVIVTJCp3hZ24z7QtVHRFQ2hTdoWAS0K6dDf/sozZnGoANn9xs8SGJgBRACyuyNXTewj/lXKJVQC6h3okADy3l2NzTi5YPUHT4rL1rE02V13NaABvrMOrVADXl2yUbSr/hzvZzIi0eVKCp9TCopmDk6iWaAAAIZNIMx3Ihjf/xIhPr/+Wg5AJPWD/iudygGWQ1rR9p4EALXt3SlFHntDPn1A+O0v/Xr3/gAyBUS9qt88YPjkxMgBjtbhuaz9TcqlGVDqCw/87Jim3tpREP3xohqSQbWaPhm9TPgszHTj/vV7Ki0zH7JYvSkdzNhwjIBCqRgA2GgD/v65HJEnL/tv/lJSkalxMEjf/Y6L/doj/d9j/ZIYAHpv/Sjb/n9v/ooojQVGLr5+op2H/hppxi3swL0FBl5EGAAAeHklEQVR4nO2dDVwTR/rHd8EAISFdQgjhTQgQXiuGdw1vyosxFlDeEoWABREEFQXkxcoiqS8I1krlaqVKraK9YKtUrIivrVI5exRt1etZ29PWtmdb7+zZ6x/rXdvPf2YTTIAkEFjLAfl9WkkmszuT787MPvPMsxMEgbK2QcaNLMemWHMj1WsDriFlwKWXDLj0kjouIwOuoWSjwmVEoZiMG9HHqFhrApU1kAlq0JAygaQQGyATtMhsvGg6Sh+LYotQE0iKaGGmqO2YjAcj0VPomBRri5o+fm2BThmTOoxEY4RrCmrx+LUB15Ay4NJLkxyXR/2DgUm8+vrtWvNPSFzSQ729D+149XW6zsA8VCdC5jFeHJh+kvFQpPWgiYgL37qiRlpXyIvcousMnE1xGnF9HPGC9oMmIq7al1YVInbsSAaD8WJQ3ALGcmw/gxFRY5cesTGSseIFBD/JiIhYEQE+XgVwvcSoI/iwt4JMLyAvwaO0nnoi4hKsZGwpBN8ftC7WNgCDtT+iBjkUV5geyXgmkVHHbFtVA1KUrQsm/YRAWhGFzE2MF0Drekb7qSciLsRvEwMAU+CK2w5a06oapDPyT+mRqxC71XWFJ3+yq+2tYW6KKyQ6oyiybjZskg9mI1sZH01CXEQD+0iJ6yGCr4yAeghxGUXWFbZtqdm/BeISqeNa/eJswPTfkw+XSGQHvjjAtaIPFyAB1Idra0Rvb43dgNZFZNrKeGby4ar9sUa0Ke4ZYBLUzIe4mJ1xy+fPL7RLZyhwnawrFBWKkP2MjYUqXLz9K5bjvXVGyMeM/yVcGKg4CafRhYt1r76+HnzneGBwxvxYA0ysGJBQVyiFNummX0Tb4up7I5bb+R2qf+ABTFLRpuWwRuyf6+t/AhbX1vonaUhg+D2gQrvh5hcw6n7Rv5RBGoVVP5+xHZGeXDWiizZqXMwgRv2C3jodV6S/dLb14WvkuDB8Zd29Q73bxwYXJyhuIxwGRPjmzZtfQKSbCzdvrilEmPfA2412LPDvZqLlceaDV4XIvZcYD2oUR8JmWaN9vqFbo2hdGH7//v2NIxsRSMOFH7r/Mxg3gRn4y8kVNcz9oMkxljP3MzZvjtgIs8X0/vhz70+z1XDdi9xyfyxwjUYk4IqoO1T/i4gHLtfKCFEi40W7Wsb2+Su32x2KE6XD+cTHW+B9Gg4WhxgPwe1K2RnBzGT5sEe8QRrHuH78ORKMBPcWLIhkzE5kPEDmRwJcD0SHVhQGMVYsqF+94pnHVuBHKly8rVtGcYscv7jiNvqtXFVYu/pB4WoVrpNx9YyNdtsYD+YDieAcg8D1JxUu/KTCeByZxjMu5GfGw58Zz7BVreve6u2FwLaeBwxDhaRbt7yAbWIUqnABvhAXc1OvdgeAdo1XXMwgMJTXrl4VszIushfiehEaNvjWuN7eOhEY+Xt74+CEH8ziInoj5qsZEvcY2+E4H7RKNJLhfrziQjDQijCRCPwHhLDglxfZ3YtcXhi/+sW+VJjNSPECZldI8WIeI24kfXI0hkRt3HL1t9Fx2p3NA/VkJkEc6GGKAbiGkZcX+e8RlKATl2Alg7FKa9msGEYfLjgLx6IJf9fw9ITmjNA1yRgOrfRIRtxICtA5xY4ERsvWj7RZKWq4eACXXpqAHgnp1jiFhZIILtmK2byTcb1xh1bWR8SJpCAhbjYGccWsZjA+YvfCiyoArYu4vBvt0iO3g7//Sx4JkqQDV+1Lq4jREN6WpYy6wq2MB4Wgez5EpHCtY3UdAnBJF9RgmyIKmbB1AVzMbdA9zXjo0ct4Jp2hY0VkIuJarfA2tDH+hBh9vGVj24oaMJqBtCAwPMw/ueIF2LrAPWgTo4atwLUdf+nFF5CYyI8EvcDwWb1C+71nAuLCVypwnQS4sJNbatq2QFwvFiLbGCvq6+t/hLiwQ3H1EQNxrf7IYxLi4m2Fk1F8dhDjI4S5GnTGPlwwAVEM9bWRD0Hnq2GujiM6Iw8ufuyHnXHy4ULmr1yx/N6mh9KVW+7tj6vhKXCBFifdGgE9mXCox1f+tL+XUQNa4MZCgAuL6f3xXn2dKH01wBU5yXAh+M8LFoAGJlgA/iCc2uWFCO/eRmDVSO8TKfj9Qk7tggWb789GBPcXbOTd34wwwftfChH2ZmBi/LxZ+9R/QuJ6cjLg0kv9cRmCLYeQrRouU7SIOk40ZTo6ZSzKLVLGppoDUcY6CHs8iAJJIUZAlijVxnx8yOYpdCyqakNFLSEpooUZhvohZbgz6iUDLr1kwKWXyMDFnpUqtFe9ZUkCFrprzIiBUbLPx6l8BVKsRlKm7sjnjkVHK9/TuebLdEKX2g9KTc/7v3lJ63QcRg6uWKHad8YkzppxYdHnn0KXEN8CE1cSiE9/a+yaP5IydePKnnH06owhcE3VgMvj6ox5zhU6DiMHl5vQxjwUQAA3dxt7AhdmDe67oSDBHhGBv9bm1lZIfMY6+31oAUI0wFdihfbYaTfPEZU4BC6mU0rD80usYOEcUC8MVsWKY0OYHkSSlQIXC6bYs8xtrDCRvx3Lxp/9/BL2+gIdZyYH1+HXaHMqQjA/h2O0O/kELr/Fjz516Wn4Ds1ntTydy7vsDdrSieoC+yCXGeAIjmTKJZAiWJxCsfAnvzNySgI5O3N5jmg+5yuvwAanz459VhUSX3zsH7S0p/M5z7kG2itwxTsf+xS9xl7flYWv6S4TvLmoARz1Q66OM5ODyyWQeyKpR5q3yB15R+YJcDVkuy3FTrv0bEMLmO2pNxraG/kI4hRQEBqtHBp4OQBXTGUmrTg2ayRlDmeob0OXsFoyy05NFVrVVl8TtHrdRNq8fDgtXWWKzjjv7rRkjmNq/gVZGV4ZK5RUzgwd6pSkjV2dxQVB33dTKO+W3gS4jq5J4SOdaUviA9alO9CadrRXuWvCVVwR2pm0ZCRlDgdXfHD3P9c3ul/23k1xKi6QZLzHRTwcGnesh3WBuED9EAS0/ejD5ySvFx3f9eq1waPZAJGIa8m27xvNbG3pfIBrjxIXq93tm398cGXhv86ALlcCO+McBR1l66rwjU6bMZIyh4OL813pB1MDeRdKd9vampUJMuDg/07my0RdlLjsIC78jb1//vXSLWp31JCnJKkznuE2J+VHB6zjIoo7Y0NHNx854ZKPfIVeCm/Iuy4D7R+Jyaiw34q+L6XLuQQuK8HiGb5BT651gd7498x8Xo6bEL6JJ3AFJaGwLxK44otncFnfxZZzLhgfE35+/tsU/yHPSA6u0sYvilOieKdcXra1PceFdpfk9b1f/AvYE4kJXgWcdhS2f4TZfGdKdYVvoossWfLFl+ixc6bN/9pbGc4fSZnDwhUfgMrcMXDX+dX2YlR8MbTEmN953SDq4uSylJmT+vIXUw9ymafQA2W1lehx7pBnJAMXB7c0oVD4dgiPAmTC5VD87Tli8BIUD5JCMDHFkhgVcJgNYYMsOMwpD2USCSPRsHCBSoD7LkYU5sszkcO0llTizoeZU7hWPBOikhiPIvcFeblD36Mn3SSoPfPmKIqdbLiiE2QjtYyhpvRzPk98Xz3Hxno0xfZtjGABREGnG48XoeiYFDsdpUBSCmQolXBCjwPB1jUWxVIn2dg1Sk22oX6UMuDSSxMJF2YTilhrdSqwrG00m6GYjbWGD4xsjIxsBp2MHFwsG1NTf6X3UmQaCko3Mje1UC8Ms36cA7cwhT47keqQEUgTLoFzrvjVM9qOiC+epvTxQn+g2gd+zk3Jg3JzJMHHPw/oGciLFFwsSeuVNBkxm+GI13jd4CJGb52n0dQc+Jhk8ZXzMj6sJX6C9qlrYGjt1UdpKfwRuQahNOBirpf987tGzasECJxiL3JX1qX/WoKfQ9Xggzi7ph7ctUw40KNDCi684wB/f/USeCniA64/Hchllfxjaf8cGw7wY/IqfMHLzlyE7dh1ZoOMX+Lc4zuyAjXieg6dmZgQ2GACJ6xyO6aJ3J4FJq6WXAT8MfEPhbjEJnw4uw7eK/fnmMOJJDwO4sKY8B0mNvEFE9sQDDcRd4TvyQ4f5KIgBdfavJkh8RkzIC6B7X8BLnyD7BxFrnZpxI7hfEFHt7J4UXtXYHs4P6ZyGC4TLdKASzBF6HFRLnEIz4qpnBESnfYeVxLwMvVtIaf29q+t3XyAqyEvtQzMuH9weXRrx9HWY5eCq0IQBS6/7Ee/nq+KOo3eRFrQCk5bauBZOX42apC7kBxc1QDXYgIXgj0Hca3J3N2aekY1NInzAK7Ffbhqqxvljo1k41IIh802I2xpZ/D76QHr7FntjVFiPlIScE2Q4d3hetxK4Y/j+nWERSFfJ0DvBMDVkOMmtCoJ6IlJW4K1/3bAnfBPaxLpuFgQl7gyBcBYBxJizMzoIX24ZijoCNaURjGPHL51O+0J4GLOctuxi/ZbefPhrG2ozMysUlYmOmt2e06PoHU6Ggun1yy49FILL9W276FrEuJql5UhMZUVflff83C4VJrVfkPLEEhiZ1ynwoWvSVHSqaXT4Qih6IzrCDoeHbFL7REbCmVnWkXIyArUZXdJ7v566T9fLGx9j9uGhlPoFLn/6deEt5MALreOuT2IClcIsi0JLpKp4bL/Ovabwx8EHHcO1HJy8ob6gB7p2d3uRGe0xzdMA62rQnUbJob66p6Gs7uTpdmxS4kbImvW1EF3nmFLOy6843qj3OnTOUvsEhNSoH90vmOg+xGAK2PRN0ndsNWIwWDl0TGNj+1DyxFlZwwTIk7B1+yDvv90hr3j9TvaFs/IMSRiWh+lhfPnOT/tGU37Es3cK4+5++jLcDUzAYu5+uh8OD89b65nGzp3L41m9jnt0m+3hvb2apN2XOxZ6AF+ZzFabsU55XKMRjvXkJP66Xm0R1A8LbkFncmF1+7pRrmk9dGlqQdhBaDdJVj826U7wLyYV40uAYN942BDTCGyzFQLC3+EY2phz7SwMLWwCFUkqAmDCXYccwt7EcxgYQPeWwy5rKdd2nFhHEVBgAQTOlv8rTgWFuamoRxzf1A7uAgMcliEcmAFiMvFMrWxx6zBO9DUwXH+wI620dbqJ9Ik6HeQAZdemmzO51Gqz/lsCWSIfB6GKJAUgczQuoaUYc9nvWQY6vWSAZdeGue4OJahIkst1i7LQtsnOgQO0jDV4Jj424v97UnCBeNH5H3eGhjBIQ9FmOIB0SIwE9+ur3iKJRF1EjJS97MCF8vpNblTo5agFPZ6Yko4qLImluo2O9OkHx/2em8NQQF+RBRdFkkROBLa3lZZmeKbY/hbX2TIypiSt3dnyPjqmd4GmRQJWGcSWhUV8za1eMTuZwIXJlm2UFIt1DLz5L3hqgmXn3M/X7PUQaY+QWQ7aooujg8OPOocyCUHl9KzrGj5GF7GnJVw/OibKb7NwUtUjQd/MyVE6aBG/J7vCqiyfDcl5ETwoMWDYYrAxbwce26Wt5C3Vn6WTueXmNH5COZHp9Pl9ghOodPzAC4m+ETOhU3dzB0HH/F5O4MfHZdbicHrECKKMCDzoNwKVxylxCWF77hikIJTyhA/uvDyAfnlRhhbSAaufr4/IBjnvDbPxzc6Qy22Xc1BjV3u+o9DFR0kdGZUjAYXC6db4HR/weLMW9kJ4c/+F/Xh+i1+9J/WJjmz+fDLp793LeftvPPJ7SvX/DpeaTx39Aezz4NTGpyCHx20lLy+l97a6N6H62hrEzgKtnSIyyO79D9f/HbwrLOPb2faDO5XaIVYzlpL0CQfl8iJerfKt6Taxze+H67qx7g88gKPQlzhIZ3Fo8KllGCxd7nHXa9y9vqu5MuxZ6xqq2dKMtZxBdWu5dFzAhG8vWpPdqrQni23QhxLPaFrnn0kTI50VvdYwc7YmMy87CZESqpn+ipwfeUaaIU7NlI6UvxPnA/zbENVEWHk4zIS7zlyRXjxMa5mKvVcSD9cF2SeAoeqqCOpe1tdyME1LYr3PBiiv+vit8jKkNo1KW+B68AGY1cb2kW9nZZi0jEN1K6ESk3LLIe48A2pNGprQoGdAhdOOFPfhK5wiAsGGOIXZPIj0/bcvpRa/s401eBGCq5KgKtyncq/JXZIuVjp4xtUDMcusQlxK4KdMZpwUEsd5h771CVzYZSFpVNaAbm4oghclTNLQC/nObqWt6QGWlha+uNwESrmro+lY2m5AOJaIxOCqR9cN/OAuBRHVfiq4VoTzo959c9XPri6ME8tNJucob4brhmCL57+4bPJzTcRiXPVno51vs1JPar7nqCjG47sHrdfSzY3Nd3l3ARukrwj3lmjuTP2nVqFK+s57zOKZZ9F7kEuoDMmBBIOU4jra5d8qUNmOb6+Kpmd471UWTDrjS5P5ix4VPA1rgJXdMINK4nDQnfB4m8PcPddn6P21AspdldtpWvCTLhKMW9OmCe+xjgBsIjJeCrBR33VNaZyLkiY55zqSSwkV+04YvyXWPlInfX9cHW4RbEdn/ZE3ijNYueg110XuiOdwde730XLmadcrhvfOX60Y5E/Mq/a9S9FT5czL6OlQml2grHxYQLZV2hpIHuD13XX49C+gHYXyHF9blUyIs1G1/luQ13VLAtyrHoja2vFg2TwcTvlGyNro342KEYkYIoH8sAfmG9kD+dBqeOCJ0OIksH/oBgYIQL+2GHKt/CVEZHNWpnDDmS1tlZEkmBGRLWU7x6fg/gKqgorNc4nQb+3DLj0Un9chtjUIYrti001RD4PS+qRzwbn85AyOJ/1kmGo10sGXHppIuLCxPJQsVyLn5Z5Vj5UhCfIwl0r1ziZJQsXb60ZnYi4w6R0upmZ3J5IUK8yU2xmJlQmlIAcXOZaMzP+6JzPmoVfrbJ8Xttj6H4OXRqelcfEdFVk5WNX82CRhIt35LVzV4kniFmJLk10upw364oyQSkmTMhUACx5+xO63Lr5im2rbFTOZ81iOsXuOHK4XMuJ/RyaNIBgSYIPPvZhRy8LPPrHQI0ubZJwwdg3xTP7WOJhGNpe+2aFL/FoeJ9q30wJ6Uwj3FuCABhtBr3RzQE+JDhwBshvw6I9HWFRAlvhW1TbMifobWNKqFQqH1STSp1S3ZSF4bepVLm9n9mO27vdO6nUc3y81eXYrRDW2SlUahbWciDqQqPmx9hJwgWdp9HF0DGkxEUkaHE+t3k1UXfLxaN3PmsWx9ySZWpiH52UKbyMNu7+r7eQeerVl/dcbSqXtk/bsQ9tysJf37vjrdei4otf8TGJ/8OOXctuNexc9rKcs+uPn1g6hruL/TFilUyDSMQVT+ACnTGTdouvy/nckhq4trLRrDKFJOezZkWnTUsWOHd54g5VezYc4CPNSQVBCUsQgXNTFHz2P6ayR5ARloUw/RH8japkybKDXMHiGVykDdW1Jw9ZuJz7cIGLa74rOFDlfL5QVLQ3qz+u0lze5Vihk8uj8wlPEtciLvQsi9+oolTCXS2Kl1xAC+DYFXXB67ei82iBJGMGGOD2FRW5NGVBXDEZrkVFaej7Ok5K1tiV5+MblNa3I4Q4T835LLKxgc6jWlXfa0nN5eW4ncGsrZtJcT5rFsDlrsRlotgEpGCbApf8gqzM2to6lLicF+bmih2boiCuzsoKf5iu46Qk4QLtOPSES/48Z1lycy52KqlqT8cM3xNz8gc4n5N60u+GeX7ldYMJFxMQdrZbFPl3RqXUcDXkhMlZp+cujUZn2LehTVGz5hJbRhC43inNSgxuylrr0MP1WKxpBbufyLK7YipRtMAKOp9F7SgKjBYiwW5gjlDofMZaUFRW5rcBRUdMazi45ixy93CQJYsdqrIEHSg6d6kVGJjQae92ZfFmwcC2pfFp79khiXNQ1LgpC9TGW+5xFSSn6kI2Ea36JygDLr1kwKWX+nBB16olSjU3HR+Cu/KOQbHmfbvywm35KKgxbbwIRcekWGPlns9QBufzkDI4n/WSYajXSwZcemlC42KeLcPOyodzOkx8McrirHzIOQY5uHi7qFTFg+qd8JcdzvGJBPW5KlOV0Eyl7i5DmCUDcuinYeFqPlzefEXh0eWsvahrwsXZFXxtV0DP77IRKOF6/uHOTcgLNzGh5MnKZr12buedXNWUEbqeQQLE05k2k5LXyIc5Sp/Ew8UqCQJS0h2UD6EzT6cu1ZGVd6R7x5Gw36l1EY7lYsWj6wjr1LJAizV9T/orhSsSYIBhC1rAae868244PyYvnMxtNwYpCK1ITAjnik7TbliWpHn9/W9HaZ+8Hugu+JBGE3LZuxbeptFugssHzKlnL7aekdz9nXa2VHcsI4iopbRMGa2qwqUWvpro8ujX4BuWjgDXm09gYwQ1cWxCOeahzK9lwhJhA2hd/tEJrxRYz3u1qcFpmbAhG/U5eneRZ/T3PpKAKnebUEzrE8VqIh0XNi+gKWutZlyKbTcSg9Gum3i77MlsuzFIeEusELFjnj681CraZZo7q837DFJbmbInOywK2YeWt3mXM9s1bIKjWeTvUtKWGoiocLWgaGZ5v9a1DT3wzZxGviQYRdHfAxcidkC9DypxrUNE7aVl8MGJPdnTCFxBrrkCB82rZBpEUmyqalHHz6HrJoyFDum3j4R4DdH34FD1XWo5B15heJjPEx271OqXYtqHi9VSCutX0dCHC1w1TSuPmkUKLml2GN8pKR/uI4E9BzcsZueEyeEuFo9zsHPcykoCetIr53q2oO+LoOvZTpo9behbkTbp0Rl/KIM3mhPBPfYQF5a4LJC7a9lBqRJXS6k+G8CTY3fhp6c/lRua/rqbJ3ah66Yi4dtcdasK/3r6UwWhHq2xnrznv53edZOdg07vHjktPXBhkurpMj4i+Ov37506XwF3nflseupxrnRndxRy+rPyxGCv6WiVtm02BmpCW/XD0RulnqznvLXuKTdAkx0XuzLWU7xPpmX/qUGa7LgQD2Cs7h4urce4rK2tjUxQGtyRfDzIZDpKVlVNoIabl4aawOcXEBsgClpkO2V8yHY6OhZVtS1CKZAU0cIMzuchZXA+66VJP9TrJwMuvTTBcOEXy8QXh+Vu1iUMvy00vS3UMKElC5ffziKaYn9DrLmo6BYfkcKEfnHNtTsblf7faCIH26mIFjhS97NmXEb7mnbsqxr6t2E4a/8g1+GEwPycq3asr9Kw7SZJuPyyu+WnvWDcHSvotzO7gnuY2Qfkp11yVZNCTslddJoCV9BnN8R54f45MvnOObkjjBTXiAsLSr11auqZod18LDDH1pELe85beOqwpokRaZHPPqGdafDny7AWWRm+ptGscqZvZ/E6FQy/xZc+VeJqKb2JX+i+uCY8pDNjHZnRg6znXG+dcj3++avHuYLWbnfeGwnTm7J4OcdoScbGx+09WuE2oEbt35YKJc4oGvb5X1++G+s5LyBhblUWb1YTtfqp3FAk6LyX8W9/2xC+p13jb0ySHspr5NiVj1+QXcwbEMqreMKcwPVd5k3e5e5n82aG9PO46iVdQ31tHlw6WMJ2jPUUwdBBNJzYnpsIBsXaUnPnn41yWnaQG9+KFtjNC+j2lDhXJc9yCW/ITl0an7ZE6qDjp3FIxyV6B7SdNY1D4cp5grj8ssOinJLyCWdgm6wM/jakFCSdTsiHuObe4CKcXQSuRe5IG1qAiNplcvirdk7B+Z1z8pGWA9rdOaTH1SN+61EUVcP1Tp+38ndrXRynqR/8dZH7NhhR6dVUdtkNzKBLAj55ndiv3gjGgrqXQFywei0AF+fCY1ygdXk4pGi/C5A5dn1fgCmel8fXhNPh2JXmM7B1ITAHMXbJzhFj1xMJFI+pPGbsE7oNJSKxeTkQV8xVNIGojZEVp10mVOIKRb4CuPD2xiglrug0Y+MrOtyrZN4ZS8thKC/HHJ/lJpQqElQ5MGvJYje5PwzlDXoV3BmrbHIOCHfeyX8Skc9+2ajXNSuPq6me5uY2vJywM7DFJc2FjwlhX/uI9zXy1+ZV8Qlc6Xnd7pI/LmyY5U3gak7Kt9b2mxxQZNld+E64xpn+4W73ziLas0IrRYJa48KdYDjZDY/bzybDlVBgd8GUXHLtLqU4JbdvABvT40MarehWw6xnod3aWfwecatj/0BrKkPYu2ivff7FDVC/aFCrc1ym5Fm5VcntsvS7j2hfumlvXhPMqtcucKscxqXZ51UO+qf2n3qeLLiYpxN6hu73zCNTP6FcOKDduTpZcLHXnhvOSjXvrJmZmQ5XdP89n2n08aLp6JgUS1O6BxXOZ4OGlML5bA1kQ6eTtFzwO8hsbIqlm0JSit5oZKPfgDCWshg6y5OQjZHqtfU4wmU5NsWaG3DpIwMuvWTApZcMuPSSAtf/AzFUH+qscdAuAAAAAElFTkSuQmCC)"
   ]
  },
  {
   "cell_type": "markdown",
   "metadata": {},
   "source": [
    "Vamos adicionar uma coluna para representar a soma da renda do requisitante e do co-requisitante."
   ]
  },
  {
   "cell_type": "code",
   "execution_count": 371,
   "metadata": {
    "scrolled": true
   },
   "outputs": [
    {
     "data": {
      "text/html": [
       "<div>\n",
       "<style scoped>\n",
       "    .dataframe tbody tr th:only-of-type {\n",
       "        vertical-align: middle;\n",
       "    }\n",
       "\n",
       "    .dataframe tbody tr th {\n",
       "        vertical-align: top;\n",
       "    }\n",
       "\n",
       "    .dataframe thead th {\n",
       "        text-align: right;\n",
       "    }\n",
       "</style>\n",
       "<table border=\"1\" class=\"dataframe\">\n",
       "  <thead>\n",
       "    <tr style=\"text-align: right;\">\n",
       "      <th></th>\n",
       "      <th>Masculino</th>\n",
       "      <th>Casado</th>\n",
       "      <th>QtdDependentes</th>\n",
       "      <th>Graduado</th>\n",
       "      <th>Empreendedor</th>\n",
       "      <th>ValorRendaRequisitante</th>\n",
       "      <th>ValorRendaCoRequisitante</th>\n",
       "      <th>ValorEmprestimo</th>\n",
       "      <th>DuracaoEmprestimo</th>\n",
       "      <th>TemHistoricoCredito</th>\n",
       "      <th>EmprestimoAprovado</th>\n",
       "      <th>TipoAreaResidencia_Rural</th>\n",
       "      <th>TipoAreaResidencia_Semiurban</th>\n",
       "      <th>TipoAreaResidencia_Urban</th>\n",
       "      <th>ValorRendaTotal</th>\n",
       "    </tr>\n",
       "  </thead>\n",
       "  <tbody>\n",
       "    <tr>\n",
       "      <th>0</th>\n",
       "      <td>1.0</td>\n",
       "      <td>0.0</td>\n",
       "      <td>0.0</td>\n",
       "      <td>1</td>\n",
       "      <td>0.0</td>\n",
       "      <td>5849</td>\n",
       "      <td>0.0</td>\n",
       "      <td>146.369492</td>\n",
       "      <td>360.0</td>\n",
       "      <td>1.0</td>\n",
       "      <td>1</td>\n",
       "      <td>0</td>\n",
       "      <td>0</td>\n",
       "      <td>1</td>\n",
       "      <td>5849.0</td>\n",
       "    </tr>\n",
       "    <tr>\n",
       "      <th>1</th>\n",
       "      <td>1.0</td>\n",
       "      <td>1.0</td>\n",
       "      <td>1.0</td>\n",
       "      <td>1</td>\n",
       "      <td>0.0</td>\n",
       "      <td>4583</td>\n",
       "      <td>1508.0</td>\n",
       "      <td>128.000000</td>\n",
       "      <td>360.0</td>\n",
       "      <td>1.0</td>\n",
       "      <td>0</td>\n",
       "      <td>1</td>\n",
       "      <td>0</td>\n",
       "      <td>0</td>\n",
       "      <td>6091.0</td>\n",
       "    </tr>\n",
       "    <tr>\n",
       "      <th>2</th>\n",
       "      <td>1.0</td>\n",
       "      <td>1.0</td>\n",
       "      <td>0.0</td>\n",
       "      <td>1</td>\n",
       "      <td>1.0</td>\n",
       "      <td>3000</td>\n",
       "      <td>0.0</td>\n",
       "      <td>66.000000</td>\n",
       "      <td>360.0</td>\n",
       "      <td>1.0</td>\n",
       "      <td>1</td>\n",
       "      <td>0</td>\n",
       "      <td>0</td>\n",
       "      <td>1</td>\n",
       "      <td>3000.0</td>\n",
       "    </tr>\n",
       "    <tr>\n",
       "      <th>3</th>\n",
       "      <td>1.0</td>\n",
       "      <td>1.0</td>\n",
       "      <td>0.0</td>\n",
       "      <td>0</td>\n",
       "      <td>0.0</td>\n",
       "      <td>2583</td>\n",
       "      <td>2358.0</td>\n",
       "      <td>120.000000</td>\n",
       "      <td>360.0</td>\n",
       "      <td>1.0</td>\n",
       "      <td>1</td>\n",
       "      <td>0</td>\n",
       "      <td>0</td>\n",
       "      <td>1</td>\n",
       "      <td>4941.0</td>\n",
       "    </tr>\n",
       "    <tr>\n",
       "      <th>4</th>\n",
       "      <td>1.0</td>\n",
       "      <td>0.0</td>\n",
       "      <td>0.0</td>\n",
       "      <td>1</td>\n",
       "      <td>0.0</td>\n",
       "      <td>6000</td>\n",
       "      <td>0.0</td>\n",
       "      <td>141.000000</td>\n",
       "      <td>360.0</td>\n",
       "      <td>1.0</td>\n",
       "      <td>1</td>\n",
       "      <td>0</td>\n",
       "      <td>0</td>\n",
       "      <td>1</td>\n",
       "      <td>6000.0</td>\n",
       "    </tr>\n",
       "  </tbody>\n",
       "</table>\n",
       "</div>"
      ],
      "text/plain": [
       "   Masculino  Casado  QtdDependentes  Graduado  Empreendedor  \\\n",
       "0        1.0     0.0             0.0         1           0.0   \n",
       "1        1.0     1.0             1.0         1           0.0   \n",
       "2        1.0     1.0             0.0         1           1.0   \n",
       "3        1.0     1.0             0.0         0           0.0   \n",
       "4        1.0     0.0             0.0         1           0.0   \n",
       "\n",
       "   ValorRendaRequisitante  ValorRendaCoRequisitante  ValorEmprestimo  \\\n",
       "0                    5849                       0.0       146.369492   \n",
       "1                    4583                    1508.0       128.000000   \n",
       "2                    3000                       0.0        66.000000   \n",
       "3                    2583                    2358.0       120.000000   \n",
       "4                    6000                       0.0       141.000000   \n",
       "\n",
       "   DuracaoEmprestimo  TemHistoricoCredito  EmprestimoAprovado  \\\n",
       "0              360.0                  1.0                   1   \n",
       "1              360.0                  1.0                   0   \n",
       "2              360.0                  1.0                   1   \n",
       "3              360.0                  1.0                   1   \n",
       "4              360.0                  1.0                   1   \n",
       "\n",
       "   TipoAreaResidencia_Rural  TipoAreaResidencia_Semiurban  \\\n",
       "0                         0                             0   \n",
       "1                         1                             0   \n",
       "2                         0                             0   \n",
       "3                         0                             0   \n",
       "4                         0                             0   \n",
       "\n",
       "   TipoAreaResidencia_Urban  ValorRendaTotal  \n",
       "0                         1           5849.0  \n",
       "1                         0           6091.0  \n",
       "2                         1           3000.0  \n",
       "3                         1           4941.0  \n",
       "4                         1           6000.0  "
      ]
     },
     "execution_count": 371,
     "metadata": {},
     "output_type": "execute_result"
    }
   ],
   "source": [
    "df['ValorRendaTotal'] = df['ValorRendaRequisitante'] + df['ValorRendaCoRequisitante']\n",
    "\n",
    "df.head()"
   ]
  },
  {
   "cell_type": "markdown",
   "metadata": {},
   "source": [
    "É importante também normalizarmos os valores quantitativos como as colunas ValorRenda*.  \n",
    "Uma técnca para normalizar esses valores é através do log de 10. "
   ]
  },
  {
   "cell_type": "code",
   "execution_count": 372,
   "metadata": {},
   "outputs": [
    {
     "data": {
      "text/html": [
       "<div>\n",
       "<style scoped>\n",
       "    .dataframe tbody tr th:only-of-type {\n",
       "        vertical-align: middle;\n",
       "    }\n",
       "\n",
       "    .dataframe tbody tr th {\n",
       "        vertical-align: top;\n",
       "    }\n",
       "\n",
       "    .dataframe thead th {\n",
       "        text-align: right;\n",
       "    }\n",
       "</style>\n",
       "<table border=\"1\" class=\"dataframe\">\n",
       "  <thead>\n",
       "    <tr style=\"text-align: right;\">\n",
       "      <th></th>\n",
       "      <th>Masculino</th>\n",
       "      <th>Casado</th>\n",
       "      <th>QtdDependentes</th>\n",
       "      <th>Graduado</th>\n",
       "      <th>Empreendedor</th>\n",
       "      <th>ValorRendaRequisitante</th>\n",
       "      <th>ValorRendaCoRequisitante</th>\n",
       "      <th>ValorEmprestimo</th>\n",
       "      <th>DuracaoEmprestimo</th>\n",
       "      <th>TemHistoricoCredito</th>\n",
       "      <th>EmprestimoAprovado</th>\n",
       "      <th>TipoAreaResidencia_Rural</th>\n",
       "      <th>TipoAreaResidencia_Semiurban</th>\n",
       "      <th>TipoAreaResidencia_Urban</th>\n",
       "      <th>ValorRendaTotal</th>\n",
       "    </tr>\n",
       "  </thead>\n",
       "  <tbody>\n",
       "    <tr>\n",
       "      <th>0</th>\n",
       "      <td>1.0</td>\n",
       "      <td>0.0</td>\n",
       "      <td>0.0</td>\n",
       "      <td>1</td>\n",
       "      <td>0.0</td>\n",
       "      <td>8.674026</td>\n",
       "      <td>0.000000</td>\n",
       "      <td>146.369492</td>\n",
       "      <td>360.0</td>\n",
       "      <td>1.0</td>\n",
       "      <td>1</td>\n",
       "      <td>0</td>\n",
       "      <td>0</td>\n",
       "      <td>1</td>\n",
       "      <td>8.674026</td>\n",
       "    </tr>\n",
       "    <tr>\n",
       "      <th>1</th>\n",
       "      <td>1.0</td>\n",
       "      <td>1.0</td>\n",
       "      <td>1.0</td>\n",
       "      <td>1</td>\n",
       "      <td>0.0</td>\n",
       "      <td>8.430109</td>\n",
       "      <td>7.318540</td>\n",
       "      <td>128.000000</td>\n",
       "      <td>360.0</td>\n",
       "      <td>1.0</td>\n",
       "      <td>0</td>\n",
       "      <td>1</td>\n",
       "      <td>0</td>\n",
       "      <td>0</td>\n",
       "      <td>8.714568</td>\n",
       "    </tr>\n",
       "    <tr>\n",
       "      <th>2</th>\n",
       "      <td>1.0</td>\n",
       "      <td>1.0</td>\n",
       "      <td>0.0</td>\n",
       "      <td>1</td>\n",
       "      <td>1.0</td>\n",
       "      <td>8.006368</td>\n",
       "      <td>0.000000</td>\n",
       "      <td>66.000000</td>\n",
       "      <td>360.0</td>\n",
       "      <td>1.0</td>\n",
       "      <td>1</td>\n",
       "      <td>0</td>\n",
       "      <td>0</td>\n",
       "      <td>1</td>\n",
       "      <td>8.006368</td>\n",
       "    </tr>\n",
       "    <tr>\n",
       "      <th>3</th>\n",
       "      <td>1.0</td>\n",
       "      <td>1.0</td>\n",
       "      <td>0.0</td>\n",
       "      <td>0</td>\n",
       "      <td>0.0</td>\n",
       "      <td>7.856707</td>\n",
       "      <td>7.765569</td>\n",
       "      <td>120.000000</td>\n",
       "      <td>360.0</td>\n",
       "      <td>1.0</td>\n",
       "      <td>1</td>\n",
       "      <td>0</td>\n",
       "      <td>0</td>\n",
       "      <td>1</td>\n",
       "      <td>8.505323</td>\n",
       "    </tr>\n",
       "    <tr>\n",
       "      <th>4</th>\n",
       "      <td>1.0</td>\n",
       "      <td>0.0</td>\n",
       "      <td>0.0</td>\n",
       "      <td>1</td>\n",
       "      <td>0.0</td>\n",
       "      <td>8.699515</td>\n",
       "      <td>0.000000</td>\n",
       "      <td>141.000000</td>\n",
       "      <td>360.0</td>\n",
       "      <td>1.0</td>\n",
       "      <td>1</td>\n",
       "      <td>0</td>\n",
       "      <td>0</td>\n",
       "      <td>1</td>\n",
       "      <td>8.699515</td>\n",
       "    </tr>\n",
       "  </tbody>\n",
       "</table>\n",
       "</div>"
      ],
      "text/plain": [
       "   Masculino  Casado  QtdDependentes  Graduado  Empreendedor  \\\n",
       "0        1.0     0.0             0.0         1           0.0   \n",
       "1        1.0     1.0             1.0         1           0.0   \n",
       "2        1.0     1.0             0.0         1           1.0   \n",
       "3        1.0     1.0             0.0         0           0.0   \n",
       "4        1.0     0.0             0.0         1           0.0   \n",
       "\n",
       "   ValorRendaRequisitante  ValorRendaCoRequisitante  ValorEmprestimo  \\\n",
       "0                8.674026                  0.000000       146.369492   \n",
       "1                8.430109                  7.318540       128.000000   \n",
       "2                8.006368                  0.000000        66.000000   \n",
       "3                7.856707                  7.765569       120.000000   \n",
       "4                8.699515                  0.000000       141.000000   \n",
       "\n",
       "   DuracaoEmprestimo  TemHistoricoCredito  EmprestimoAprovado  \\\n",
       "0              360.0                  1.0                   1   \n",
       "1              360.0                  1.0                   0   \n",
       "2              360.0                  1.0                   1   \n",
       "3              360.0                  1.0                   1   \n",
       "4              360.0                  1.0                   1   \n",
       "\n",
       "   TipoAreaResidencia_Rural  TipoAreaResidencia_Semiurban  \\\n",
       "0                         0                             0   \n",
       "1                         1                             0   \n",
       "2                         0                             0   \n",
       "3                         0                             0   \n",
       "4                         0                             0   \n",
       "\n",
       "   TipoAreaResidencia_Urban  ValorRendaTotal  \n",
       "0                         1         8.674026  \n",
       "1                         0         8.714568  \n",
       "2                         1         8.006368  \n",
       "3                         1         8.505323  \n",
       "4                         1         8.699515  "
      ]
     },
     "execution_count": 372,
     "metadata": {},
     "output_type": "execute_result"
    }
   ],
   "source": [
    "# Calcula logaritimo das colunas\n",
    "df['ValorRendaRequisitante'] = np.log(df['ValorRendaRequisitante'])\n",
    "\n",
    "# Como CoRequisitante possui zeros, ele irá ter problemas com o log. Para isso, definimos 0 = 1 para que o log seja zero\n",
    "df.loc[df['ValorRendaCoRequisitante'] == 0, 'ValorRendaCoRequisitante'] = 1\n",
    "df['ValorRendaCoRequisitante'] = np.log(df['ValorRendaCoRequisitante']) \n",
    "\n",
    "df['ValorRendaTotal'] = np.log(df['ValorRendaTotal'])\n",
    "\n",
    "df.head()"
   ]
  },
  {
   "cell_type": "markdown",
   "metadata": {},
   "source": [
    "O próximo passo é definir quais colunas são features e qual a coluna que queremos prever."
   ]
  },
  {
   "cell_type": "code",
   "execution_count": 373,
   "metadata": {},
   "outputs": [],
   "source": [
    "# utilizamos X maiusculo como conveção para colunas features e y para a coluan label\n",
    "X = df.drop('EmprestimoAprovado', axis=1)\n",
    "y = df['EmprestimoAprovado']"
   ]
  },
  {
   "cell_type": "markdown",
   "metadata": {},
   "source": [
    "Em seguida, separamos o dataset em duas partes, uma para treino e outra para testes."
   ]
  },
  {
   "cell_type": "code",
   "execution_count": 374,
   "metadata": {},
   "outputs": [],
   "source": [
    "# utilizamos o método do sklearn train_test_split para criar a separação\n",
    "# A ordem é feature_train, feature_test, label_train, label_test\n",
    "# O parametro test_size diz qual o tamanho do dataset será usado para teste\n",
    "# O parametro random_state é um seed(semente) utilizado para randomização da separação, melhorando-a\n",
    "X_train, X_test, y_train, y_test = train_test_split(X, y, test_size=0.33, random_state=42)"
   ]
  },
  {
   "cell_type": "markdown",
   "metadata": {},
   "source": [
    "Agora estamos prontos para treinar o modelo. Vamos aplicar três algoritimos diferentes:  \n",
    "1. Regressão Logística\n",
    "2. Arvore de Decisão\n",
    "3. Floresta Aleatória"
   ]
  },
  {
   "cell_type": "code",
   "execution_count": 375,
   "metadata": {},
   "outputs": [
    {
     "data": {
      "text/plain": [
       "LogisticRegression(C=1.0, class_weight=None, dual=False, fit_intercept=True,\n",
       "          intercept_scaling=1, max_iter=100, multi_class='ovr', n_jobs=1,\n",
       "          penalty='l2', random_state=None, solver='liblinear', tol=0.0001,\n",
       "          verbose=0, warm_start=False)"
      ]
     },
     "execution_count": 375,
     "metadata": {},
     "output_type": "execute_result"
    }
   ],
   "source": [
    "# Regressão Logística\n",
    "lr = LogisticRegression() # criado instancia de logistic regressor\n",
    "lr.fit(X_train, y_train) # função fit executa o treinamento\n",
    "\n",
    "# Abaixo os parametros da regressão:"
   ]
  },
  {
   "cell_type": "markdown",
   "metadata": {},
   "source": [
    "Vamos verificar a pontuação desse treinamento e do teste.  \n",
    "A pontuação utiliza a função matemática de acuracia para medir a porcentagem qeu foi acertada na predição."
   ]
  },
  {
   "cell_type": "code",
   "execution_count": 376,
   "metadata": {},
   "outputs": [
    {
     "name": "stdout",
     "output_type": "stream",
     "text": [
      "Treinamento: 80.44%\n",
      "Testes: 82.18%\n"
     ]
    }
   ],
   "source": [
    "# print do score do treinamento\n",
    "print('Treinamento: {0:.2%}'.format(lr.score(X_train, y_train)))\n",
    "\n",
    "# print do score de teste\n",
    "print('Testes: {0:.2%}'.format(lr.score(X_test, y_test)))"
   ]
  },
  {
   "cell_type": "markdown",
   "metadata": {},
   "source": [
    "Agora, utilizando o algoritimo de Arvore de Decisão."
   ]
  },
  {
   "cell_type": "code",
   "execution_count": 377,
   "metadata": {},
   "outputs": [
    {
     "data": {
      "text/plain": [
       "DecisionTreeClassifier(class_weight=None, criterion='gini', max_depth=None,\n",
       "            max_features=None, max_leaf_nodes=None,\n",
       "            min_impurity_decrease=0.0, min_impurity_split=None,\n",
       "            min_samples_leaf=1, min_samples_split=2,\n",
       "            min_weight_fraction_leaf=0.0, presort=False, random_state=None,\n",
       "            splitter='best')"
      ]
     },
     "execution_count": 377,
     "metadata": {},
     "output_type": "execute_result"
    }
   ],
   "source": [
    "dt = DecisionTreeClassifier() # inicia instancia do DecisionTreeClassifier\n",
    "\n",
    "dt.fit(X_train, y_train) # função fit executa o treinamento\n",
    "\n",
    "# Abaixo os parametros do treinamento:"
   ]
  },
  {
   "cell_type": "code",
   "execution_count": 378,
   "metadata": {},
   "outputs": [
    {
     "name": "stdout",
     "output_type": "stream",
     "text": [
      "Treinamento: 100.00%\n",
      "Testes: 72.28%\n"
     ]
    }
   ],
   "source": [
    "# print do score do treinamento\n",
    "print('Treinamento: {0:.2%}'.format(dt.score(X_train, y_train)))\n",
    "\n",
    "# print do score de teste\n",
    "print('Testes: {0:.2%}'.format(dt.score(X_test, y_test)))"
   ]
  },
  {
   "cell_type": "markdown",
   "metadata": {},
   "source": [
    "Árvores de decisão possuem problemas de overfitting, o que pode ser observado com o score do treinamento, que não possui a mesma eficiencia com dados não conhecidos.  \n",
    "\n",
    "Para melhorar esse problema, podemos efetuar alguns parametros de configuração."
   ]
  },
  {
   "cell_type": "code",
   "execution_count": 379,
   "metadata": {},
   "outputs": [
    {
     "name": "stdout",
     "output_type": "stream",
     "text": [
      "Treinamento: 82.64%\n",
      "Testes: 82.67%\n"
     ]
    }
   ],
   "source": [
    "# max_leaf_nodes limita o numero de folhas da árvore decisória\n",
    "# max_depth é um parametro que limita o numero de aprofundamento da arvore decisória\n",
    "# É um processo de tentativa e erro, para encontrar o valor ideal\n",
    "dt = DecisionTreeClassifier(max_depth=3, max_leaf_nodes=8)  # encontrado o 8 como ideal por tentativa e erro\n",
    "\n",
    "dt.fit(X_train, y_train)\n",
    "\n",
    "# print do score do treinamento\n",
    "print('Treinamento: {0:.2%}'.format(dt.score(X_train, y_train)))\n",
    "\n",
    "# print do score de teste\n",
    "print('Testes: {0:.2%}'.format(dt.score(X_test, y_test)))"
   ]
  },
  {
   "cell_type": "markdown",
   "metadata": {},
   "source": [
    "Vamos avaliar as definições de importância para as features dada pelo classificador de árvore decisória:"
   ]
  },
  {
   "cell_type": "code",
   "execution_count": 380,
   "metadata": {},
   "outputs": [
    {
     "data": {
      "text/plain": [
       "[(0.0, 'Masculino'),\n",
       " (0.0, 'Casado'),\n",
       " (0.0, 'QtdDependentes'),\n",
       " (0.0, 'Graduado'),\n",
       " (0.0, 'Empreendedor'),\n",
       " (0.0, 'ValorRendaRequisitante'),\n",
       " (0.026349126159428173, 'ValorRendaCoRequisitante'),\n",
       " (0.0272901663794077, 'ValorEmprestimo'),\n",
       " (0.02401532199469069, 'DuracaoEmprestimo'),\n",
       " (0.7504637213839195, 'TemHistoricoCredito'),\n",
       " (0.0, 'TipoAreaResidencia_Rural'),\n",
       " (0.06143566091030819, 'TipoAreaResidencia_Semiurban'),\n",
       " (0.0, 'TipoAreaResidencia_Urban'),\n",
       " (0.11044600317224577, 'ValorRendaTotal')]"
      ]
     },
     "execution_count": 380,
     "metadata": {},
     "output_type": "execute_result"
    }
   ],
   "source": [
    "importance = list(zip(dt.feature_importances_, X_train.columns))\n",
    "importance"
   ]
  },
  {
   "cell_type": "markdown",
   "metadata": {},
   "source": [
    "Por último, vamos testar o algoritimo de floresta aleatória."
   ]
  },
  {
   "cell_type": "code",
   "execution_count": 381,
   "metadata": {},
   "outputs": [
    {
     "name": "stdout",
     "output_type": "stream",
     "text": [
      "Treinamento: 99.02%\n",
      "Testes: 79.21%\n"
     ]
    }
   ],
   "source": [
    "rf = RandomForestClassifier() \n",
    "rf.fit(X_train, y_train)\n",
    "\n",
    "# print do score do treinamento\n",
    "print('Treinamento: {0:.2%}'.format(rf.score(X_train, y_train)))\n",
    "\n",
    "# print do score de teste\n",
    "print('Testes: {0:.2%}'.format(rf.score(X_test, y_test)))"
   ]
  },
  {
   "cell_type": "markdown",
   "metadata": {},
   "source": [
    "Vamos tentar melhorar a performance desse algoritmo."
   ]
  },
  {
   "cell_type": "code",
   "execution_count": 382,
   "metadata": {},
   "outputs": [
    {
     "name": "stdout",
     "output_type": "stream",
     "text": [
      "Treinamento: 100.00%\n",
      "Testes: 80.20%\n"
     ]
    }
   ],
   "source": [
    "# o parametro n_estimators define o numero de arvores da floresta\n",
    "rf = RandomForestClassifier(n_estimators=1000, random_state=42) \n",
    "rf.fit(X_train, y_train)\n",
    "\n",
    "# print do score do treinamento\n",
    "print('Treinamento: {0:.2%}'.format(rf.score(X_train, y_train)))\n",
    "\n",
    "# print do score de teste\n",
    "print('Testes: {0:.2%}'.format(rf.score(X_test, y_test)))"
   ]
  },
  {
   "cell_type": "markdown",
   "metadata": {},
   "source": [
    "Mesmo com tentativas de melhorar a performance alterando os parametros do algoritimo, vimos que a melhor performance ficou com a árvore de decisão."
   ]
  },
  {
   "cell_type": "markdown",
   "metadata": {},
   "source": [
    "Vamos utilizar o modelo para tentar efetuar previsões com valores de exemplo:"
   ]
  },
  {
   "cell_type": "code",
   "execution_count": 383,
   "metadata": {},
   "outputs": [
    {
     "name": "stdout",
     "output_type": "stream",
     "text": [
      "[1]\n"
     ]
    }
   ],
   "source": [
    "print(dt.predict([X_test.iloc[0]])) # previsao da coluna EmprestimoAprovado"
   ]
  },
  {
   "cell_type": "markdown",
   "metadata": {},
   "source": [
    "Vamos comparar com o dataset inicial"
   ]
  },
  {
   "cell_type": "code",
   "execution_count": 384,
   "metadata": {},
   "outputs": [
    {
     "name": "stdout",
     "output_type": "stream",
     "text": [
      "Testes: 82.65%\n"
     ]
    }
   ],
   "source": [
    "X['EmprestimoAprovado'] = dt.predict(X)\n",
    "\n",
    "comparativo = X['EmprestimoAprovado'] == df['EmprestimoAprovado']\n",
    "\n",
    "# Previsões / base original\n",
    "print('Testes: {0:.2%}'.format(comparativo[comparativo == 1].count() / comparativo.count()))\n"
   ]
  },
  {
   "cell_type": "markdown",
   "metadata": {},
   "source": [
    "Terminado os testes, vamos salvar o modelo final.\n",
    "\n",
    "Nota: esse passo não é recomendado para modelos preditivos de séries temporais"
   ]
  },
  {
   "cell_type": "code",
   "execution_count": 387,
   "metadata": {},
   "outputs": [],
   "source": [
    "# biblioteca pickle permite exportar o modelo de previsão para ser utilizado novamente\n",
    "import pickle\n",
    "pickle.dump(dt, open('modelo.sav', 'wb'))"
   ]
  }
 ],
 "metadata": {
  "kernelspec": {
   "display_name": "Python 3",
   "language": "python",
   "name": "python3"
  },
  "language_info": {
   "codemirror_mode": {
    "name": "ipython",
    "version": 3
   },
   "file_extension": ".py",
   "mimetype": "text/x-python",
   "name": "python",
   "nbconvert_exporter": "python",
   "pygments_lexer": "ipython3",
   "version": "3.6.4"
  }
 },
 "nbformat": 4,
 "nbformat_minor": 2
}
